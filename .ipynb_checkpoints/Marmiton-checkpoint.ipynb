{
 "cells": [
  {
   "cell_type": "markdown",
   "metadata": {},
   "source": [
    "# Packages"
   ]
  },
  {
   "cell_type": "code",
   "execution_count": 11,
   "metadata": {},
   "outputs": [],
   "source": [
    "from urllib.request import urlopen\n",
    "from bs4 import BeautifulSoup\n",
    "from selenium import webdriver\n",
    "import pandas as pd \n",
    "import numpy as np\n",
    "import selenium\n",
    "from tkinter import *\n",
    "from tkinter import ttk\n"
   ]
  },
  {
   "cell_type": "markdown",
   "metadata": {},
   "source": [
    "# Partie Marmiton"
   ]
  },
  {
   "cell_type": "code",
   "execution_count": 9,
   "metadata": {},
   "outputs": [
    {
     "data": {
      "text/plain": [
       "'pizza'"
      ]
     },
     "execution_count": 9,
     "metadata": {},
     "output_type": "execute_result"
    }
   ],
   "source": [
    "def Interface_Saisie():\n",
    "    fen = Tk()\n",
    "    image = PhotoImage(file='Image.png', master=fen) #Importation de l'image\n",
    "    can = Canvas(fen, width =500, height =400, bg ='pink')\n",
    "    can.grid(column=0,row=0,columnspan=3,padx=10, pady=10)\n",
    "    can.create_image((150, 200), image=image)\n",
    "    l=[]\n",
    "    def quit():\n",
    "        \"\"\" Récupérer ce qui a été saisi par l'utilisateur\"\"\"\n",
    "        #message.configure(text=nom.get())\n",
    "        plat=nom.get()\n",
    "        l.append(plat)\n",
    "        fen.destroy()\n",
    "\n",
    "#################### CREATION DE L'INTERFACE ####################\n",
    "\n",
    "    libelle = Label(can, text='Alors que vous voulez vous préparer aujourdhui :')\n",
    "    libelle.pack()\n",
    "    nom = Entry(can)\n",
    "    nom.pack(pady=180,padx=180)\n",
    "    b1 = Button(fen, text ='Valider votre choix' ,command=quit)\n",
    "    b1.grid(column=0,row=1,padx=200, pady=10)\n",
    "    fen.mainloop()#\n",
    "    return(l[0])\n"
   ]
  },
  {
   "cell_type": "code",
   "execution_count": 8,
   "metadata": {},
   "outputs": [],
   "source": [
    "def saisir_recette(plat):\n",
    "    driver = webdriver.Chrome()\n",
    "    url = 'https://www.marmiton.org/recettes/recherche.aspx?aqt='+plat\n",
    "    driver.get(url)\n",
    "    driver.find_element_by_id('didomi-notice-agree-button').click()\n",
    "    html=driver.page_source\n",
    "    bs = BeautifulSoup(html, \"html.parser\")\n",
    "    return bs"
   ]
  },
  {
   "cell_type": "code",
   "execution_count": 3,
   "metadata": {},
   "outputs": [],
   "source": [
    "def extract(bs): ## cette fonction permet d'extraire l'ensemble des infos ci-dessous liées au plat choisit (!!! retourne seulement les 3 premières recettes)\n",
    "    nom=list() ## le nom du plat\n",
    "    lien = list() ## le lien vers la recette \n",
    "    note =list() # la note de la recette \n",
    "    review = list() #le nbr de personnes qui ont mis une remarque \n",
    "    nom=list(map(lambda i: i.get_text(),bs.find_all('h4',{'class':'MRTN__sc-30rwkm-0 dJvfhM'})))[:3]\n",
    "    lien = list(map(lambda i: \"https://www.marmiton.org\"+i.attrs['href'],bs.find_all('a',{'class':'MRTN__sc-1gofnyi-2 gACiYG'})))[:3]\n",
    "    note = list(map(lambda i: i.get_text(),bs.find_all('span',{'class':'SHRD__sc-10plygc-0 jHwZwD'})))[:3]\n",
    "    review = list(map(lambda i: i.get_text(),bs.find_all('div',{'class':'MRTN__sc-30rwkm-3 fyhZvB'})))[:3]\n",
    "    df = pd.DataFrame(np.column_stack([nom,lien,note,review]), columns=['nom','lien','note','review'])\n",
    "    return df"
   ]
  },
  {
   "cell_type": "code",
   "execution_count": 126,
   "metadata": {},
   "outputs": [
    {
     "data": {
      "text/html": [
       "<div>\n",
       "<style scoped>\n",
       "    .dataframe tbody tr th:only-of-type {\n",
       "        vertical-align: middle;\n",
       "    }\n",
       "\n",
       "    .dataframe tbody tr th {\n",
       "        vertical-align: top;\n",
       "    }\n",
       "\n",
       "    .dataframe thead th {\n",
       "        text-align: right;\n",
       "    }\n",
       "</style>\n",
       "<table border=\"1\" class=\"dataframe\">\n",
       "  <thead>\n",
       "    <tr style=\"text-align: right;\">\n",
       "      <th></th>\n",
       "      <th>nom</th>\n",
       "      <th>lien</th>\n",
       "      <th>note</th>\n",
       "      <th>review</th>\n",
       "      <th>Temps de préparation</th>\n",
       "      <th>difficulté</th>\n",
       "      <th>cout</th>\n",
       "    </tr>\n",
       "  </thead>\n",
       "  <tbody>\n",
       "    <tr>\n",
       "      <th>0</th>\n",
       "      <td>Lasagnes à la bolognaise</td>\n",
       "      <td>https://www.marmiton.org/recettes/recette_lasa...</td>\n",
       "      <td>4.9/5</td>\n",
       "      <td>(1319 avis)</td>\n",
       "      <td>2 h 5 min</td>\n",
       "      <td>moyenne</td>\n",
       "      <td>moyen</td>\n",
       "    </tr>\n",
       "    <tr>\n",
       "      <th>1</th>\n",
       "      <td>Lasagnes végétariennes (facile)</td>\n",
       "      <td>https://www.marmiton.org/recettes/recette_lasa...</td>\n",
       "      <td>4.8/5</td>\n",
       "      <td>(277 avis)</td>\n",
       "      <td>1 h 20 min</td>\n",
       "      <td>facile</td>\n",
       "      <td>bon marché</td>\n",
       "    </tr>\n",
       "    <tr>\n",
       "      <th>2</th>\n",
       "      <td>Lasagnes</td>\n",
       "      <td>https://www.marmiton.org/recettes/recette_lasa...</td>\n",
       "      <td>4.8/5</td>\n",
       "      <td>(262 avis)</td>\n",
       "      <td>2 h 5 min</td>\n",
       "      <td>moyenne</td>\n",
       "      <td>moyen</td>\n",
       "    </tr>\n",
       "  </tbody>\n",
       "</table>\n",
       "</div>"
      ],
      "text/plain": [
       "                               nom  \\\n",
       "0         Lasagnes à la bolognaise   \n",
       "1  Lasagnes végétariennes (facile)   \n",
       "2                         Lasagnes   \n",
       "\n",
       "                                                lien   note       review  \\\n",
       "0  https://www.marmiton.org/recettes/recette_lasa...  4.9/5  (1319 avis)   \n",
       "1  https://www.marmiton.org/recettes/recette_lasa...  4.8/5   (277 avis)   \n",
       "2  https://www.marmiton.org/recettes/recette_lasa...  4.8/5   (262 avis)   \n",
       "\n",
       "  Temps de préparation difficulté        cout  \n",
       "0            2 h 5 min    moyenne       moyen  \n",
       "1           1 h 20 min     facile  bon marché  \n",
       "2            2 h 5 min    moyenne       moyen  "
      ]
     },
     "execution_count": 126,
     "metadata": {},
     "output_type": "execute_result"
    }
   ],
   "source": [
    "bs = saisir_recette('lasagnes')\n",
    "df = extract(bs)\n",
    "df2 = extract_inf(df,bs)\n",
    "df_f=pd.concat([df, df2], axis=1)\n",
    "df_f "
   ]
  },
  {
   "cell_type": "code",
   "execution_count": 122,
   "metadata": {},
   "outputs": [],
   "source": [
    "def extract_inf(df,bs): ## this function extracts the time, difficulty, and price(budget) and takes the output of the preivous function\n",
    "    time=list()\n",
    "    diff = list()\n",
    "    cout = list()\n",
    "    for i in range(0,len(df)):\n",
    "        url = df['lien'][i]\n",
    "        #driver.get(url)\n",
    "        #html=driver.page_source\n",
    "        html=urlopen(url)\n",
    "        bs = BeautifulSoup(html, \"html.parser\")\n",
    "        time.append(bs.find_all('p',{'class':'RCP__sc-1qnswg8-1 iDYkZP'})[0].get_text())\n",
    "        diff.append(bs.find_all('p',{'class':'RCP__sc-1qnswg8-1 iDYkZP'})[1].get_text())\n",
    "        cout.append(bs.find_all('p',{'class':'RCP__sc-1qnswg8-1 iDYkZP'})[2].get_text())\n",
    "    df = pd.DataFrame(np.column_stack([time,diff,cout]), columns=['Temps de préparation','difficulté','cout'])\n",
    "    return df"
   ]
  },
  {
   "cell_type": "code",
   "execution_count": 144,
   "metadata": {},
   "outputs": [],
   "source": [
    "df_2=extract_inf(df)"
   ]
  },
  {
   "cell_type": "code",
   "execution_count": 145,
   "metadata": {},
   "outputs": [
    {
     "data": {
      "text/html": [
       "<div>\n",
       "<style scoped>\n",
       "    .dataframe tbody tr th:only-of-type {\n",
       "        vertical-align: middle;\n",
       "    }\n",
       "\n",
       "    .dataframe tbody tr th {\n",
       "        vertical-align: top;\n",
       "    }\n",
       "\n",
       "    .dataframe thead th {\n",
       "        text-align: right;\n",
       "    }\n",
       "</style>\n",
       "<table border=\"1\" class=\"dataframe\">\n",
       "  <thead>\n",
       "    <tr style=\"text-align: right;\">\n",
       "      <th></th>\n",
       "      <th>Temps de préparation</th>\n",
       "      <th>difficulté</th>\n",
       "      <th>cout</th>\n",
       "    </tr>\n",
       "  </thead>\n",
       "  <tbody>\n",
       "    <tr>\n",
       "      <th>0</th>\n",
       "      <td>2 h 5 min</td>\n",
       "      <td>moyenne</td>\n",
       "      <td>moyen</td>\n",
       "    </tr>\n",
       "    <tr>\n",
       "      <th>1</th>\n",
       "      <td>1 h 20 min</td>\n",
       "      <td>facile</td>\n",
       "      <td>bon marché</td>\n",
       "    </tr>\n",
       "    <tr>\n",
       "      <th>2</th>\n",
       "      <td>2 h 5 min</td>\n",
       "      <td>moyenne</td>\n",
       "      <td>moyen</td>\n",
       "    </tr>\n",
       "  </tbody>\n",
       "</table>\n",
       "</div>"
      ],
      "text/plain": [
       "  Temps de préparation difficulté        cout\n",
       "0            2 h 5 min    moyenne       moyen\n",
       "1           1 h 20 min     facile  bon marché\n",
       "2            2 h 5 min    moyenne       moyen"
      ]
     },
     "execution_count": 145,
     "metadata": {},
     "output_type": "execute_result"
    }
   ],
   "source": [
    "df_2"
   ]
  },
  {
   "cell_type": "code",
   "execution_count": 146,
   "metadata": {},
   "outputs": [
    {
     "data": {
      "text/html": [
       "<div>\n",
       "<style scoped>\n",
       "    .dataframe tbody tr th:only-of-type {\n",
       "        vertical-align: middle;\n",
       "    }\n",
       "\n",
       "    .dataframe tbody tr th {\n",
       "        vertical-align: top;\n",
       "    }\n",
       "\n",
       "    .dataframe thead th {\n",
       "        text-align: right;\n",
       "    }\n",
       "</style>\n",
       "<table border=\"1\" class=\"dataframe\">\n",
       "  <thead>\n",
       "    <tr style=\"text-align: right;\">\n",
       "      <th></th>\n",
       "      <th>nom</th>\n",
       "      <th>lien</th>\n",
       "      <th>note</th>\n",
       "      <th>review</th>\n",
       "      <th>Temps de préparation</th>\n",
       "      <th>difficulté</th>\n",
       "      <th>cout</th>\n",
       "    </tr>\n",
       "  </thead>\n",
       "  <tbody>\n",
       "    <tr>\n",
       "      <th>0</th>\n",
       "      <td>Lasagnes à la bolognaise</td>\n",
       "      <td>https://www.marmiton.org/recettes/recette_lasa...</td>\n",
       "      <td>4.9/5</td>\n",
       "      <td>(1316 avis)</td>\n",
       "      <td>2 h 5 min</td>\n",
       "      <td>moyenne</td>\n",
       "      <td>moyen</td>\n",
       "    </tr>\n",
       "    <tr>\n",
       "      <th>1</th>\n",
       "      <td>Lasagnes végétariennes (facile)</td>\n",
       "      <td>https://www.marmiton.org/recettes/recette_lasa...</td>\n",
       "      <td>4.8/5</td>\n",
       "      <td>(277 avis)</td>\n",
       "      <td>1 h 20 min</td>\n",
       "      <td>facile</td>\n",
       "      <td>bon marché</td>\n",
       "    </tr>\n",
       "    <tr>\n",
       "      <th>2</th>\n",
       "      <td>Lasagnes</td>\n",
       "      <td>https://www.marmiton.org/recettes/recette_lasa...</td>\n",
       "      <td>4.8/5</td>\n",
       "      <td>(262 avis)</td>\n",
       "      <td>2 h 5 min</td>\n",
       "      <td>moyenne</td>\n",
       "      <td>moyen</td>\n",
       "    </tr>\n",
       "  </tbody>\n",
       "</table>\n",
       "</div>"
      ],
      "text/plain": [
       "                               nom  \\\n",
       "0         Lasagnes à la bolognaise   \n",
       "1  Lasagnes végétariennes (facile)   \n",
       "2                         Lasagnes   \n",
       "\n",
       "                                                lien   note       review  \\\n",
       "0  https://www.marmiton.org/recettes/recette_lasa...  4.9/5  (1316 avis)   \n",
       "1  https://www.marmiton.org/recettes/recette_lasa...  4.8/5   (277 avis)   \n",
       "2  https://www.marmiton.org/recettes/recette_lasa...  4.8/5   (262 avis)   \n",
       "\n",
       "  Temps de préparation difficulté        cout  \n",
       "0            2 h 5 min    moyenne       moyen  \n",
       "1           1 h 20 min     facile  bon marché  \n",
       "2            2 h 5 min    moyenne       moyen  "
      ]
     },
     "execution_count": 146,
     "metadata": {},
     "output_type": "execute_result"
    }
   ],
   "source": [
    "## merging the dataframes given by the two previous function\n",
    "df_f=pd.concat([df, df_2], axis=1)\n",
    "df_f ## the user should select a reciepe by giving the name the next function will extract the ingrendients"
   ]
  },
  {
   "cell_type": "code",
   "execution_count": 147,
   "metadata": {},
   "outputs": [
    {
     "data": {
      "text/plain": [
       "[['Lasagnes à la bolognaise',\n",
       "  'https://www.marmiton.org/recettes/recette_lasagnes-a-la-bolognaise_18215.aspx',\n",
       "  '4.9/5',\n",
       "  '(1316 avis)',\n",
       "  '2\\xa0h\\xa05\\xa0min',\n",
       "  'moyenne',\n",
       "  'moyen'],\n",
       " ['Lasagnes végétariennes (facile)',\n",
       "  'https://www.marmiton.org/recettes/recette_lasagnes-vegetariennes-facile_10527.aspx',\n",
       "  '4.8/5',\n",
       "  '(277 avis)',\n",
       "  '1\\xa0h\\xa020\\xa0min',\n",
       "  'facile',\n",
       "  'bon marché'],\n",
       " ['Lasagnes',\n",
       "  'https://www.marmiton.org/recettes/recette_lasagnes_24174.aspx',\n",
       "  '4.8/5',\n",
       "  '(262 avis)',\n",
       "  '2\\xa0h\\xa05\\xa0min',\n",
       "  'moyenne',\n",
       "  'moyen']]"
      ]
     },
     "execution_count": 147,
     "metadata": {},
     "output_type": "execute_result"
    }
   ],
   "source": [
    "## Place the tkinter here\n",
    "rows=[list(df_f.iloc[i]) for i in range(0,3)]\n",
    "rows"
   ]
  },
  {
   "cell_type": "code",
   "execution_count": null,
   "metadata": {},
   "outputs": [],
   "source": [
    "def tableau_Affichage(Liste_plats):\n",
    "    fenetre = Tk()\n",
    "    fenetre.title('Affichage des plats')\n",
    "    style = Style(fenetre)\n",
    "# set ttk theme to \"clam\" which support the fieldbackground option\n",
    "\n",
    "# Création et remplissage du tableau\n",
    "    libelle = Label(fenetre, text = 'PLATS')\n",
    "    libelle.pack(padx = 10, pady = 10)\n",
    "    tableau = Treeview(fenetre, columns=('Nom', 'Note','Temps','difficulté','Cout'))\n",
    "    tableau.heading('Nom', text='Nom')\n",
    "    tableau.heading('Note', text='Note')\n",
    "    tableau.heading('Temps', text='Temps')\n",
    "    tableau.heading('difficulté', text='difficulté')\n",
    "    tableau.heading('Cout', text='Cout')               \n",
    "    tableau['show'] = 'headings' # sans ceci, il y avait une colonne vide à gauche qui a pour rôle d'afficher le paramètre \"text\" qui peut être spécifié lors du insert\n",
    "    tableau.pack(padx = 10, pady = (0, 10))\n",
    "    for i in range(0,len(Liste_plats)):\n",
    "    tableau.insert('', 'end', iid=i, values=(Liste_plats[i][0], Liste_plats[i][2], Liste_plats[i][4], Liste_plats[i][5],\n",
    "                                             Liste_plats[i][6]))\n",
    "    def quit2():\n",
    "        fenetre.destroy()\n",
    "\n",
    "    libelle = Label(fenetre, text='Choisissez un plat :')\n",
    "    libelle.pack()\n",
    "    nom = Entry(fenetre)\n",
    "    nom.pack()\n",
    "    b2 = Button(fen, text ='Fermer' ,command=quit2)\n",
    "    b2.grid(column=0,row=1,padx=200, pady=10)\n",
    "    "
   ]
  },
  {
   "cell_type": "code",
   "execution_count": 139,
   "metadata": {},
   "outputs": [],
   "source": [
    "def extract_ing(df_f,i):\n",
    "    dic = {}\n",
    "    url = df_f['lien'][i]\n",
    "    html=urlopen(url)\n",
    "    bs = BeautifulSoup(html, \"html.parser\")\n",
    "    poid = bs.find_all('div',{'class':'RCP__sc-8cqrvd-0 hSorOY'})\n",
    "    ing = bs.find_all('span',{'class':'SHRD__sc-10plygc-0 kWuxfa'})\n",
    "    for i in range(0,len(poid)):\n",
    "        ingredient = ing[i].get_text()\n",
    "        ingredient=ingredient.replace(\"de\",\"\",1)\n",
    "        ingredient=ingredient.replace(\"d'\",\"\",1)\n",
    "        dic[poid[i].get_text().replace('\\xa0','').replace('\\xa0','')] = ingredient\n",
    "        ## sometimes get_text() returns '\\xa0' and '\\xa0g'\n",
    "    return dic"
   ]
  },
  {
   "cell_type": "code",
   "execution_count": 141,
   "metadata": {},
   "outputs": [
    {
     "data": {
      "text/plain": [
       "{'25g': ' beurre doux ',\n",
       " '100g': ' beurre doux ',\n",
       " '1l': ' lait ',\n",
       " '1paquet': ' lasagnes ',\n",
       " '3': 'oignons jaunes ',\n",
       " '2gousses': 'ail ',\n",
       " '1branche': ' céleri ',\n",
       " '1': 'carotte ',\n",
       " '800g': ' purée de tomate ',\n",
       " '15cl': 'eau ',\n",
       " '20cl': ' vin rouge ',\n",
       " '2': 'feuilles  laurier ',\n",
       " '': 'poivre ',\n",
       " '3pincées': ' muscade râpée',\n",
       " '70g': ' fromage râpé ',\n",
       " '125g': ' Parmesan ',\n",
       " '600g': ' boeuf haché '}"
      ]
     },
     "execution_count": 141,
     "metadata": {},
     "output_type": "execute_result"
    }
   ],
   "source": [
    "extract_ing(df_f,0) ## probléme il faut enelver les \"de\" et d' mais sans impacter d'autres mots comme moutarde"
   ]
  },
  {
   "cell_type": "code",
   "execution_count": 154,
   "metadata": {},
   "outputs": [],
   "source": [
    "## Display the reciept\n",
    "def extract_rec (df_f,i): ## extraire la recette \n",
    "    url = df_f['lien'][i]\n",
    "    driver.get(url)\n",
    "    html=driver.page_source\n",
    "    bs = BeautifulSoup(html, \"html.parser\")\n",
    "    nbr_steps = len(bs.find_all('h3',{'class':'RCP__sc-1wtzf9a-1 ikYBNp'}))\n",
    "    for i in range(0,nbr_steps):\n",
    "        print(bs.find_all('h3',{'class':'RCP__sc-1wtzf9a-1 ikYBNp'})[i].get_text())\n",
    "        print(bs.find_all('p',{'class':'RCP__sc-1wtzf9a-3 jFIVDw'})[i].get_text())\n",
    "        \n",
    "    "
   ]
  },
  {
   "cell_type": "code",
   "execution_count": 156,
   "metadata": {},
   "outputs": [
    {
     "name": "stdout",
     "output_type": "stream",
     "text": [
      "Étape 1\n",
      "Faire revenir gousses hachées d'ail et les oignons émincés dans un peu d'huile d'olive. \n",
      "Étape 2\n",
      "Ajouter la carotte et la branche de céleri hachée puis la viande et faire revenir le tout. \n",
      "Étape 3\n",
      "Au bout de quelques minutes, ajouter le vin rouge. Laisser cuire jusqu'à évaporation. \n",
      "Étape 4\n",
      "Ajouter la purée de tomates, l'eau et les herbes.\n",
      "Saler, poivrer, puis laisser mijoter à feu doux 45 minutes. \n",
      "Étape 5\n",
      "Préparer la béchamel : faire fondre le beurre. \n",
      "Étape 6\n",
      "Hors du feu, ajouter la farine d'un coup. \n",
      "Étape 7\n",
      "Remettre sur le feu et remuer avec un fouet jusqu'à l'obtention d'un mélange bien lisse.  \n",
      "Étape 8\n",
      "Ajouter le lait peu à peu. \n",
      "Étape 9\n",
      "Remuer sans cesse, jusqu'à ce que le mélange s'épaississe. \n",
      "Étape 10\n",
      "Ensuite, parfumer avec la muscade, saler, poivrer. Laisser cuire environ 5 minutes, à feu très doux, en remuant. Réserver. \n",
      "Étape 11\n",
      "Préchauffer le four à 200°C (thermostat 6-7).\n",
      "Huiler le plat à lasagnes. Poser une fine couche de béchamel puis des feuilles de lasagnes, de la bolognaise, de la béchamel et du parmesan.\n",
      "Répéter l'opération 3 fois de suite. \n",
      "Étape 12\n",
      "Sur la dernière couche de lasagnes, ne mettre que de la béchamel et recouvrir de fromage râpé. Parsemer quelques noisettes de beurre. \n",
      "Étape 13\n",
      "Enfourner pour environ 25 minutes de cuisson. \n",
      "Étape 14\n",
      "Déguster \n"
     ]
    }
   ],
   "source": [
    "extract_rec(df_f,0)"
   ]
  },
  {
   "cell_type": "markdown",
   "metadata": {},
   "source": [
    "# Partie Monoprix"
   ]
  },
  {
   "cell_type": "code",
   "execution_count": 14,
   "metadata": {
    "scrolled": true
   },
   "outputs": [],
   "source": [
    "def login_monoprix(email,mdp):\n",
    "    option = webdriver.ChromeOptions()\n",
    "    #Removes navigator.webdriver flag\n",
    "\n",
    "    # For older ChromeDriver under version 79.0.3945.16\n",
    "    option.add_experimental_option(\"excludeSwitches\", [\"enable-automation\"])\n",
    "    option.add_experimental_option('useAutomationExtension', False)\n",
    "\n",
    "        #For ChromeDriver version 79.0.3945.16 or over\n",
    "    option.add_argument('--disable-blink-features=AutomationControlled')\n",
    "\n",
    "\n",
    "        #Open Browser\n",
    "    driver = webdriver.Chrome(executable_path='chromedriver.exe',options=option)\n",
    "\n",
    "\n",
    "    url=\"https://www.monoprix.fr/login\"\n",
    "    driver.get(url)\n",
    "    html=driver.page_source\n",
    "    bs = BeautifulSoup(html, \"html.parser\")\n",
    "\n",
    "    ## log in:\n",
    "    driver.implicitly_wait(10)\n",
    "    driver.find_element_by_id('onetrust-close-btn-container').click() ## fermer la fenetre termes de navigation\n",
    "    driver.find_element_by_name('email').clear()\n",
    "    driver.find_element_by_name('email').send_keys(email)\n",
    "    driver.find_element_by_name('password').clear()\n",
    "    driver.find_element_by_name('password').send_keys(mdp)\n",
    "    driver.implicitly_wait(10)\n",
    "    driver.find_element_by_tag_name('button').click()\n",
    "    return driver"
   ]
  },
  {
   "cell_type": "code",
   "execution_count": 21,
   "metadata": {},
   "outputs": [],
   "source": [
    "import time"
   ]
  },
  {
   "cell_type": "code",
   "execution_count": 16,
   "metadata": {},
   "outputs": [],
   "source": [
    "def purchase_item(produit,driver):\n",
    "    try:\n",
    "        ### Monoprix woorkeeeddd !!!!\n",
    "        #produit represents the item we want to purchase\n",
    "        driver.get('https://www.monoprix.fr/courses-en-ligne')\n",
    "        ## fonctionne mais qu'avec les entrées non composées je vais essayer une autre méthode\n",
    "        driver.find_element_by_tag_name('input').send_keys(produit) ## rajoute x à la barre de recherche \n",
    "        driver.implicitly_wait(5)\n",
    "        driver.find_element_by_class_name('total-result').click() ##valide la recherche \n",
    "        #driver.get(\"https://www.monoprix.fr/courses/search/\"+x+'/'+x)\n",
    "        driver.find_elements_by_class_name('add-to-cart-button__add-button')[0].click()\n",
    "        driver.implicitly_wait(10)\n",
    "        test = driver.find_elements_by_class_name('content')\n",
    "        driver.implicitly_wait(10)\n",
    "        test[14].find_elements_by_tag_name('button')[0].click() #IndexError: list index out of range\n",
    "\n",
    "    except IndexError :\n",
    "        driver.get('https://www.monoprix.fr/courses-en-ligne')\n",
    "        ## fonctionne mais qu'avec les entrées non composées je vais essayer une autre méthode\n",
    "        driver.find_element_by_tag_name('input').send_keys(produit) ## rajoute x à la barre de recherche \n",
    "        driver.implicitly_wait(5)\n",
    "        driver.find_element_by_class_name('total-result').click() ##valide la recherche \n",
    "        #driver.get(\"https://www.monoprix.fr/courses/search/\"+x+'/'+x)\n",
    "        driver.find_elements_by_class_name('add-to-cart-button__add-button')[0].click()\n",
    "        driver.implicitly_wait(10)\n",
    "        test = driver.find_elements_by_class_name('content')\n",
    "        driver.implicitly_wait(10)\n",
    "        test[14].find_elements_by_tag_name('button')[0].click() #IndexError: list index out of range"
   ]
  },
  {
   "cell_type": "code",
   "execution_count": 18,
   "metadata": {},
   "outputs": [],
   "source": [
    "purchase_item('patates',driver)"
   ]
  },
  {
   "cell_type": "code",
   "execution_count": 27,
   "metadata": {},
   "outputs": [],
   "source": [
    "def collect_date_time(): \n",
    "    date = driver.find_element_by_class_name('days-label').find_elements_by_tag_name('div')\n",
    "    time = driver.find_element_by_class_name('table-content').find_elements_by_tag_name('table')\n",
    "    horaires =list()\n",
    "    for i in date: \n",
    "        for j in time:\n",
    "           horaires.append([k.text for  k in j.find_element_by_tag_name('tbody').find_elements_by_tag_name('td') if 'positive' in k.get_attribute('class')])\n",
    "  \n",
    "    horaires_Date_1 = horaires[0]+horaires[1]+horaires[2] #['dès 09:00','dès 10:00','dès 11:00','dès 12:00','dès 13:00','dès 14:00','dès 15:00',...]\n",
    "    horaires_Date_2 = horaires[3]+horaires[4]+horaires[5]\n",
    "    horaires_Date_3 = horaires[6]+horaires[7]+horaires[8]\n",
    "    #horaires_Date_4 = horaires[9]+horaires[10]+horaires[11]\n",
    "    pickable_dates = {}\n",
    "    pickable_dates[date[0].text.replace('\\n',' ')]=horaires_Date_1\n",
    "    pickable_dates[date[1].text.replace('\\n',' ')]=horaires_Date_2\n",
    "    pickable_dates[date[2].text.replace('\\n',' ')]=horaires_Date_3\n",
    "    #pickable_dates[date[3].text.replace('\\n',' ')]=horaires_Date_4\n",
    "    \n",
    "    return pickable_dates\n",
    "\n",
    "#Cette procedure retourne un dictionnaire qui contient les differentes date et horaires pour collecter la commande sous cette forme\n",
    "##{'Lundi 14/02': ['dès 09:00','dès 10:00','dès 11:00','dès 12:00','dès 13:00','dès 14:00','dès 15:00','dès 16:00','dès 17:00','dès 18:00','dès 19:00'],'Mardi 15/02':[....]"
   ]
  },
  {
   "cell_type": "code",
   "execution_count": 81,
   "metadata": {},
   "outputs": [],
   "source": [
    "##Partie tkinter : Horaires\n",
    "def Afficher_Horaires(L_heure):\n",
    "    ##Création de l'interface\n",
    "    window=Tk()\n",
    "    window.title('Combobox') \n",
    "    window.geometry('300x200')   \n",
    "    Time_choose=[]\n",
    "    \n",
    "    l1=Label(window,text=\"Choisit une heure\")\n",
    "    l1.grid(column=0, row=0)\n",
    "    #Une liste qui est censé compporter les horaires possibles\n",
    "    Horaire=[]\n",
    "    for cle,valeur in L_heure.items():\n",
    "        #Récupération des dates et des heures pour les mettre dans une liste\n",
    "        for i in range (0,len(valeur)):\n",
    "            Horaire.append(cle +\" \" +valeur[i])\n",
    "           \n",
    "    def OK():\n",
    "        l2=Label(window,text=\"\")\n",
    "        l2.grid(column=0, row=8)\n",
    "        Jour_select=(cmb.get()[0:-10])\n",
    "        Time_choose.append(cmb.get()[0:-10])\n",
    "        Time_choose.append(cmb.get()[-10:-1]+cmb.get()[-1])\n",
    "        Heure_select=(cmb.get()[-11:-1]+cmb.get()[-1])\n",
    "        l2.configure(text=cmb.get())\n",
    "        window.destroy()\n",
    "        \n",
    "    cmb=ttk.Combobox(window,values=Horaire,width=30)\n",
    "    cmb.grid(column=0, row=1)\n",
    "    cmb.current(0)\n",
    "    btn=Button(window,text=\"OK\" ,command=OK)\n",
    "    btn.grid(column=2, row=1)\n",
    "    window.mainloop()\n",
    "    \n",
    "    return (Time_choose)"
   ]
  },
  {
   "cell_type": "code",
   "execution_count": 68,
   "metadata": {},
   "outputs": [],
   "source": [
    "def extract_nbr(x):\n",
    "    x=x.replace('dès','')\n",
    "    x=x.replace('0','')\n",
    "    x=x.replace(':','')\n",
    "    x=x.replace(' ','')\n",
    "    return int(x)"
   ]
  },
  {
   "cell_type": "code",
   "execution_count": 169,
   "metadata": {},
   "outputs": [],
   "source": [
    "def choix_creneau(Jour_select, heure_select):\n",
    "    heure_select = heure_select[1:]\n",
    "    d=[i.text.replace('\\n',' ') for i in driver.find_element_by_class_name('days-label').find_elements_by_tag_name('div')]\n",
    "    print(d)\n",
    "    driver.find_element_by_class_name('days-label').find_elements_by_tag_name('div')[d.index(Jour_select)].click()\n",
    "    if (extract_nbr(heure_select) <=11 ):\n",
    "        index = [i.text for i in driver.find_elements_by_class_name('hours-group__content__body')[0].find_elements_by_tag_name('td')].index(heure_select)\n",
    "        driver.find_elements_by_class_name('hours-group__content__body')[0].find_elements_by_tag_name('td')[index].click()\n",
    "    elif (extract_nbr(heure_select)>=12 and extract_nbr(heure_select)<=16):\n",
    "        index = [i.text for i in driver.find_elements_by_class_name('hours-group__content__body')[1].find_elements_by_tag_name('td')].index(heure_select)\n",
    "        driver.find_elements_by_class_name('hours-group__content__body')[1].find_elements_by_tag_name('td')[index].click()\n",
    "    else:\n",
    "        index = [i.text for i in driver.find_elements_by_class_name('hours-group__content__body')[2].find_elements_by_tag_name('td')].index(heure_select)\n",
    "        driver.find_elements_by_class_name('hours-group__content__body')[2].find_elements_by_tag_name('td')[index].click()\n",
    "    "
   ]
  },
  {
   "cell_type": "code",
   "execution_count": 190,
   "metadata": {},
   "outputs": [],
   "source": [
    "def add_to_basket(produit):\n",
    "    driver.find_element_by_tag_name('input').clear()\n",
    "    driver.find_element_by_tag_name('input').send_keys(produit)\n",
    "    driver.implicitly_wait(5)\n",
    "    try:\n",
    "        driver.find_element_by_class_name('total-result').click()\n",
    "        driver.implicitly_wait(5)\n",
    "        driver.find_element_by_class_name('grocery-item__price-cart').find_element_by_tag_name('img').click()\n",
    "        driver.implicitly_wait(5)\n",
    "    except:\n",
    "        pass\n",
    "   "
   ]
  },
  {
   "cell_type": "code",
   "execution_count": 12,
   "metadata": {
    "scrolled": true
   },
   "outputs": [
    {
     "name": "stderr",
     "output_type": "stream",
     "text": [
      "<ipython-input-8-faa9fb50a9ec>:5: DeprecationWarning: find_element_by_* commands are deprecated. Please use find_element() instead\n",
      "  driver.find_element_by_id('didomi-notice-agree-button').click()\n"
     ]
    },
    {
     "ename": "NameError",
     "evalue": "name 'extract' is not defined",
     "output_type": "error",
     "traceback": [
      "\u001b[1;31m---------------------------------------------------------------------------\u001b[0m",
      "\u001b[1;31mNameError\u001b[0m                                 Traceback (most recent call last)",
      "\u001b[1;32m<ipython-input-12-c6b90b65b60b>\u001b[0m in \u001b[0;36m<module>\u001b[1;34m\u001b[0m\n\u001b[0;32m      2\u001b[0m \u001b[0mPlat\u001b[0m\u001b[1;33m=\u001b[0m\u001b[0mInterface_Saisie\u001b[0m\u001b[1;33m(\u001b[0m\u001b[1;33m)\u001b[0m\u001b[1;33m\u001b[0m\u001b[1;33m\u001b[0m\u001b[0m\n\u001b[0;32m      3\u001b[0m \u001b[0mbs\u001b[0m \u001b[1;33m=\u001b[0m \u001b[0msaisir_recette\u001b[0m\u001b[1;33m(\u001b[0m\u001b[0mPlat\u001b[0m\u001b[1;33m)\u001b[0m\u001b[1;33m\u001b[0m\u001b[1;33m\u001b[0m\u001b[0m\n\u001b[1;32m----> 4\u001b[1;33m \u001b[0mdf\u001b[0m \u001b[1;33m=\u001b[0m \u001b[0mextract\u001b[0m\u001b[1;33m(\u001b[0m\u001b[0mbs\u001b[0m\u001b[1;33m)\u001b[0m\u001b[1;33m\u001b[0m\u001b[1;33m\u001b[0m\u001b[0m\n\u001b[0m\u001b[0;32m      5\u001b[0m \u001b[0mdf2\u001b[0m \u001b[1;33m=\u001b[0m \u001b[0mextract_inf\u001b[0m\u001b[1;33m(\u001b[0m\u001b[0mdf\u001b[0m\u001b[1;33m,\u001b[0m\u001b[0mbs\u001b[0m\u001b[1;33m)\u001b[0m\u001b[1;33m\u001b[0m\u001b[1;33m\u001b[0m\u001b[0m\n\u001b[0;32m      6\u001b[0m \u001b[0mdf_f\u001b[0m\u001b[1;33m=\u001b[0m\u001b[0mpd\u001b[0m\u001b[1;33m.\u001b[0m\u001b[0mconcat\u001b[0m\u001b[1;33m(\u001b[0m\u001b[1;33m[\u001b[0m\u001b[0mdf\u001b[0m\u001b[1;33m,\u001b[0m \u001b[0mdf2\u001b[0m\u001b[1;33m]\u001b[0m\u001b[1;33m,\u001b[0m \u001b[0maxis\u001b[0m\u001b[1;33m=\u001b[0m\u001b[1;36m1\u001b[0m\u001b[1;33m)\u001b[0m\u001b[1;33m\u001b[0m\u001b[1;33m\u001b[0m\u001b[0m\n",
      "\u001b[1;31mNameError\u001b[0m: name 'extract' is not defined"
     ]
    }
   ],
   "source": [
    "#marmiton\n",
    "Plat=Interface_Saisie()\n",
    "bs = saisir_recette(Plat)\n",
    "df = extract(bs)\n",
    "df2 = extract_inf(df,bs)\n",
    "df_f=pd.concat([df, df2], axis=1)\n",
    "print(df_f) \n",
    "\n",
    "tableau_Affichage(rows)    ## Ajouter la fonction de daniel ici\n",
    "\n",
    "ingr = extract_ing(df_f,0)\n",
    "L_ingr = list(set([i for i in ingr.values()]))\n",
    "\n",
    "## monprix\n",
    "driver = login_monoprix(\"Ziedkebir9@gmail.com\",\"123456@@Zied\")\n",
    "time.sleep(10)\n",
    "purchase_item(L_ingr[0],driver)\n",
    "time.sleep(10)\n",
    "x=Afficher_Horaires(collect_date_time())\n",
    "choix_creneau(x[0], x[1])\n",
    "not_found_prod = list() ##va contenir les produits qui n'ont pas été trouvé sur le site\n",
    "for i in range(1,len(L_ingr)):\n",
    "    try:\n",
    "        add_to_basket(L_ingr[i])\n",
    "    except StaleElementReferenceException:\n",
    "        not_found_prod.append(L_ingr[i]) ### SOLVE PROBLEM LIST IS ALWAYS EMPTY\n",
    "        pass\n",
    "        \n",
    "driver.get('https://www.monoprix.fr/courses/tunnel/panier')"
   ]
  },
  {
   "cell_type": "code",
   "execution_count": 204,
   "metadata": {},
   "outputs": [],
   "source": [
    "for i in range(1,len(L_ingr)):\n",
    "    try:\n",
    "        add_to_basket(L_ingr[i])\n",
    "    except:\n",
    "        not_found_prod.append(L_ingr[i])\n",
    "        pass"
   ]
  },
  {
   "cell_type": "markdown",
   "metadata": {},
   "source": [
    "# Functions to Disregard"
   ]
  },
  {
   "cell_type": "code",
   "execution_count": 134,
   "metadata": {},
   "outputs": [],
   "source": [
    "## after selecting the date the user can select the time\n",
    "## Cette fonction permet d'extraire les horaires qui peuvent etre selectionnés\n",
    "def click_and_collect_time():\n",
    "    #for i in driver.find_element_by_class_name('days-label').find_elements_by_tag_name('div'):\n",
    "        #driver.find_element_by_class_name('days-label').find_elements_by_tag_name('div')[j].click()\n",
    "        \n",
    "    matin=[i.text for i in driver.find_element_by_xpath('//table[1]').find_elements_by_tag_name('tr')[1].find_elements_by_tag_name('td')\n",
    "          if 'positive' in i.get_attribute('class')] ##si positive se trouve dans la class cela signifie que l'horaire peut etre selectionné\n",
    "    midi= [i.text for i in driver.find_element_by_xpath('//table[2]').find_elements_by_tag_name('tr')[1].find_elements_by_tag_name('td')\n",
    "          if 'positive' in i.get_attribute('class')]\n",
    "    soir=[i.text for i in driver.find_element_by_xpath('//table[3]').find_elements_by_tag_name('tr')[1].find_elements_by_tag_name('td')\n",
    "          if 'positive' in i.get_attribute('class')]\n",
    "    #j+=1\n",
    "    créneaux = {}\n",
    "    créneaux['matin']=matin\n",
    "    créneaux['midi']=midi\n",
    "    créneaux['soir']=soir\n",
    "    return créneaux\n",
    "\n",
    "#l'output est sous cette forme:\n",
    "#{'matin': ['dès 10:00', 'dès 11:00'],\n",
    " #'midi': ['dès 12:00', 'dès 13:00', 'dès 14:00', 'dès 15:00', 'dès 16:00'],\n",
    " #'soir': ['dès 17:00', 'dès 18:00', 'dès 19:00']}\n"
   ]
  },
  {
   "cell_type": "code",
   "execution_count": null,
   "metadata": {},
   "outputs": [],
   "source": [
    "## function that returns the available dates\n",
    "def click_and_collect_dates():\n",
    "    date= []\n",
    "    date = [i.text.replace(\"\\n\",': ') for i in driver.find_element_by_class_name('days-label').find_elements_by_tag_name('div')]\n",
    "    return date\n",
    "# the result will be in the form : ['Demain 08/02','Mercredi 09/02', 'Jeudi 10/02', 'Vendredi 11/02', 'Samedi 12/02']"
   ]
  },
  {
   "cell_type": "code",
   "execution_count": null,
   "metadata": {},
   "outputs": [],
   "source": [
    "def date_créneau():\n",
    "    j=0\n",
    "    for i in driver.find_element_by_class_name('days-label').find_elements_by_tag_name('div'):\n",
    "        driver.find_element_by_class_name('days-label').find_elements_by_tag_name('div')[j]\n",
    "        j+=1\n",
    "        print('')\n",
    "        print(i.text.replace('\\n',''))\n",
    "        print('')\n",
    "        print(click_and_collect_time())        "
   ]
  },
  {
   "cell_type": "code",
   "execution_count": null,
   "metadata": {},
   "outputs": [],
   "source": [
    "def purchase_item(produit,driver):\n",
    "    driver.implicitly_wait(10)\n",
    "    ### Monoprix woorkeeeddd !!!!\n",
    "    #produit represents the item we want to purchase\n",
    "    driver.get('https://www.monoprix.fr/courses-en-ligne')\n",
    "        ## fonctionne mais qu'avec les entrées non composées je vais essayer une autre méthode\n",
    "    driver.find_element_by_tag_name('input').send_keys(produit) ## rajoute x à la barre de recherche \n",
    "    driver.implicitly_wait(5)\n",
    "    driver.find_element_by_class_name('total-result').click() ##valide la recherche \n",
    "    #driver.get(\"https://www.monoprix.fr/courses/search/\"+x+'/'+x)\n",
    "    driver.find_elements_by_class_name('add-to-cart-button__add-button')[0].click()\n",
    "    driver.implicitly_wait(10)\n",
    "    test = driver.find_elements_by_class_name('content')\n",
    "    driver.implicitly_wait(10)\n",
    "    test[14].find_elements_by_tag_name('button')[0].click() #IndexError: list index out of range\n",
    "  "
   ]
  },
  {
   "cell_type": "code",
   "execution_count": 126,
   "metadata": {},
   "outputs": [],
   "source": [
    "def purchase_item(produit):\n",
    "    driver.implicitly_wait(10)\n",
    "    try:\n",
    "        ### Monoprix woorkeeeddd !!!!\n",
    "        #produit represents the item we want to purchase\n",
    "        driver.get('https://www.monoprix.fr/courses-en-ligne')\n",
    "         ## fonctionne mais qu'avec les entrées non composées je vais essayer une autre méthode\n",
    "        driver.find_element_by_tag_name('input').send_keys(produit) ## rajoute x à la barre de recherche \n",
    "        driver.implicitly_wait(5)\n",
    "        driver.find_element_by_class_name('total-result').click() ##valide la recherche \n",
    "        #driver.get(\"https://www.monoprix.fr/courses/search/\"+x+'/'+x)\n",
    "        driver.find_elements_by_class_name('add-to-cart-button__add-button')[0].click()\n",
    "        driver.implicitly_wait(10)\n",
    "        test = driver.find_elements_by_class_name('content')\n",
    "        driver.implicitly_wait(10)\n",
    "        test[14].find_elements_by_tag_name('button')[0].click() #IndexError: list index out of range\n",
    "    except:\n",
    "        ### Monoprix woorkeeeddd !!!!\n",
    "        #produit represents the item we want to purchase\n",
    "        driver.get('https://www.monoprix.fr/courses-en-ligne')\n",
    "        ## fonctionne mais qu'avec les entrées non composées je vais essayer une autre méthode\n",
    "        driver.find_element_by_tag_name('input').send_keys(produit) ## rajoute x à la barre de recherche \n",
    "        driver.implicitly_wait(5)\n",
    "        driver.find_element_by_class_name('total-result').click() ##valide la recherche \n",
    "        #driver.get(\"https://www.monoprix.fr/courses/search/\"+x+'/'+x)\n",
    "        driver.find_elements_by_class_name('add-to-cart-button__add-button')[0].click()\n",
    "        driver.implicitly_wait(10)\n",
    "        test = driver.find_elements_by_class_name('content')\n",
    "        driver.implicitly_wait(10)\n",
    "        test[14].find_elements_by_tag_name('button')[0].click() #IndexError: list index out of range\n",
    "\n"
   ]
  },
  {
   "cell_type": "code",
   "execution_count": null,
   "metadata": {},
   "outputs": [],
   "source": [
    "## On montre la liste finale et on demande dans quel porduit il y'a une erreur l'utilisateur choisit le produit et ensuite il choisit quel\n",
    "#produit cloche"
   ]
  }
 ],
 "metadata": {
  "kernelspec": {
   "display_name": "Python 3",
   "language": "python",
   "name": "python3"
  }
 },
 "nbformat": 4,
 "nbformat_minor": 2
}
