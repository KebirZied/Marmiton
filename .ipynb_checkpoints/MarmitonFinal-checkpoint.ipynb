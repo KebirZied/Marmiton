{
 "cells": [
  {
   "cell_type": "markdown",
   "metadata": {},
   "source": [
    "# Packages"
   ]
  },
  {
   "cell_type": "code",
   "execution_count": 1,
   "metadata": {},
   "outputs": [],
   "source": [
    "from urllib.request import urlopen\n",
    "from bs4 import BeautifulSoup\n",
    "from selenium import webdriver\n",
    "import pandas as pd \n",
    "import numpy as np\n",
    "import selenium\n",
    "from tkinter import *\n",
    "import tkinter as tk\n",
    "from tkinter import *\n",
    "from tkinter import ttk\n",
    "\n",
    "from selenium.webdriver.chrome.options import Options  # for suppressing the browser\n",
    "import time\n"
   ]
  },
  {
   "cell_type": "markdown",
   "metadata": {},
   "source": [
    "# Partie Marmiton"
   ]
  },
  {
   "cell_type": "code",
   "execution_count": 3,
   "metadata": {},
   "outputs": [],
   "source": [
    "def saisir_recette(plat):\n",
    "    driver = webdriver.Chrome()\n",
    "    driver.set_window_position(-10000,0)\n",
    "    url = 'https://www.marmiton.org/recettes/recherche.aspx?aqt='+plat\n",
    "    driver.get(url)\n",
    "    driver.find_element_by_id('didomi-notice-agree-button').click()\n",
    "    html=driver.page_source\n",
    "    bs = BeautifulSoup(html, \"html.parser\")\n",
    "    driver.close()\n",
    "    return bs"
   ]
  },
  {
   "cell_type": "code",
   "execution_count": 4,
   "metadata": {},
   "outputs": [],
   "source": [
    "def Interface_Saisie():\n",
    "    fen = Tk() ##changed T to t\n",
    "    image = PhotoImage(file='Image.png', master=fen) #Importation de l'image\n",
    "    can = Canvas(fen, width =500, height =400, bg ='pink')\n",
    "    can.grid(column=0,row=0,columnspan=3,padx=10, pady=10)\n",
    "    can.create_image((150, 200), image=image)\n",
    "    l=[]\n",
    "    def quit():\n",
    "        \"\"\" Récupérer ce qui a été saisi par l'utilisateur\"\"\"\n",
    "        #message.configure(text=nom.get())\n",
    "        plat=nom.get()\n",
    "        l.append(plat)\n",
    "        fen.destroy()\n",
    "\n",
    "#################### CREATION DE L'INTERFACE ####################\n",
    "\n",
    "    libelle = Label(can, text='Alors que vous voulez vous préparer aujourdhui :')\n",
    "    libelle.pack()\n",
    "    nom = Entry(can)\n",
    "    nom.pack(pady=180,padx=180)\n",
    "    b1 = Button(fen, text ='Valider votre choix' ,command=quit)\n",
    "    b1.grid(column=0,row=1,padx=200, pady=10)\n",
    "    fen.mainloop()#\n",
    "    return(l[0])\n"
   ]
  },
  {
   "cell_type": "code",
   "execution_count": 5,
   "metadata": {},
   "outputs": [],
   "source": [
    "def extract(bs): ## cette fonction permet d'extraire l'ensemble des infos ci-dessous liées au plat choisit (!!! retourne seulement les 3 premières recettes)\n",
    "    nom=list() ## le nom du plat\n",
    "    lien = list() ## le lien vers la recette \n",
    "    note =list() # la note de la recette \n",
    "    review = list() #le nbr de personnes qui ont mis une remarque \n",
    "    nom=list(map(lambda i: i.get_text(),bs.find_all('h4',{'class':'MRTN__sc-30rwkm-0 dJvfhM'})))[:3]\n",
    "    lien = list(map(lambda i: \"https://www.marmiton.org\"+i.attrs['href'],bs.find_all('a',{'class':'MRTN__sc-1gofnyi-2 gACiYG'})))[:3]\n",
    "    note = list(map(lambda i: i.get_text(),bs.find_all('span',{'class':'SHRD__sc-10plygc-0 jHwZwD'})))[:3]\n",
    "    review = list(map(lambda i: i.get_text(),bs.find_all('div',{'class':'MRTN__sc-30rwkm-3 fyhZvB'})))[:3]\n",
    "    df = pd.DataFrame(np.column_stack([nom,lien,note,review]), columns=['nom','lien','note','review'])\n",
    "    return df"
   ]
  },
  {
   "cell_type": "code",
   "execution_count": 6,
   "metadata": {},
   "outputs": [],
   "source": [
    "def extract_inf(df,bs): ## this function extracts the time, difficulty, and price(budget) and takes the output of the preivous function\n",
    "    time=list()\n",
    "    diff = list()\n",
    "    cout = list()\n",
    "    for i in range(0,len(df)):\n",
    "        url = df['lien'][i]\n",
    "        #driver.get(url)\n",
    "        #html=driver.page_source\n",
    "        html=urlopen(url)\n",
    "        bs = BeautifulSoup(html, \"html.parser\")\n",
    "        time.append(bs.find_all('p',{'class':'RCP__sc-1qnswg8-1 iDYkZP'})[0].get_text())\n",
    "        diff.append(bs.find_all('p',{'class':'RCP__sc-1qnswg8-1 iDYkZP'})[1].get_text())\n",
    "        cout.append(bs.find_all('p',{'class':'RCP__sc-1qnswg8-1 iDYkZP'})[2].get_text())\n",
    "    df = pd.DataFrame(np.column_stack([time,diff,cout]), columns=['Temps de préparation','difficulté','cout'])\n",
    "    return df"
   ]
  },
  {
   "cell_type": "code",
   "execution_count": 144,
   "metadata": {},
   "outputs": [],
   "source": [
    "df_2=extract_inf(df)"
   ]
  },
  {
   "cell_type": "code",
   "execution_count": 145,
   "metadata": {},
   "outputs": [
    {
     "data": {
      "text/html": [
       "<div>\n",
       "<style scoped>\n",
       "    .dataframe tbody tr th:only-of-type {\n",
       "        vertical-align: middle;\n",
       "    }\n",
       "\n",
       "    .dataframe tbody tr th {\n",
       "        vertical-align: top;\n",
       "    }\n",
       "\n",
       "    .dataframe thead th {\n",
       "        text-align: right;\n",
       "    }\n",
       "</style>\n",
       "<table border=\"1\" class=\"dataframe\">\n",
       "  <thead>\n",
       "    <tr style=\"text-align: right;\">\n",
       "      <th></th>\n",
       "      <th>Temps de préparation</th>\n",
       "      <th>difficulté</th>\n",
       "      <th>cout</th>\n",
       "    </tr>\n",
       "  </thead>\n",
       "  <tbody>\n",
       "    <tr>\n",
       "      <th>0</th>\n",
       "      <td>2 h 5 min</td>\n",
       "      <td>moyenne</td>\n",
       "      <td>moyen</td>\n",
       "    </tr>\n",
       "    <tr>\n",
       "      <th>1</th>\n",
       "      <td>1 h 20 min</td>\n",
       "      <td>facile</td>\n",
       "      <td>bon marché</td>\n",
       "    </tr>\n",
       "    <tr>\n",
       "      <th>2</th>\n",
       "      <td>2 h 5 min</td>\n",
       "      <td>moyenne</td>\n",
       "      <td>moyen</td>\n",
       "    </tr>\n",
       "  </tbody>\n",
       "</table>\n",
       "</div>"
      ],
      "text/plain": [
       "  Temps de préparation difficulté        cout\n",
       "0            2 h 5 min    moyenne       moyen\n",
       "1           1 h 20 min     facile  bon marché\n",
       "2            2 h 5 min    moyenne       moyen"
      ]
     },
     "execution_count": 145,
     "metadata": {},
     "output_type": "execute_result"
    }
   ],
   "source": [
    "df_2"
   ]
  },
  {
   "cell_type": "code",
   "execution_count": 6,
   "metadata": {},
   "outputs": [
    {
     "ename": "NameError",
     "evalue": "name 'df' is not defined",
     "output_type": "error",
     "traceback": [
      "\u001b[1;31m---------------------------------------------------------------------------\u001b[0m",
      "\u001b[1;31mNameError\u001b[0m                                 Traceback (most recent call last)",
      "\u001b[1;32m<ipython-input-6-7024d97626da>\u001b[0m in \u001b[0;36m<module>\u001b[1;34m()\u001b[0m\n\u001b[0;32m      1\u001b[0m \u001b[1;31m## merging the dataframes given by the two previous function\u001b[0m\u001b[1;33m\u001b[0m\u001b[1;33m\u001b[0m\u001b[0m\n\u001b[1;32m----> 2\u001b[1;33m \u001b[0mdf_f\u001b[0m\u001b[1;33m=\u001b[0m\u001b[0mpd\u001b[0m\u001b[1;33m.\u001b[0m\u001b[0mconcat\u001b[0m\u001b[1;33m(\u001b[0m\u001b[1;33m[\u001b[0m\u001b[0mdf\u001b[0m\u001b[1;33m,\u001b[0m \u001b[0mdf_2\u001b[0m\u001b[1;33m]\u001b[0m\u001b[1;33m,\u001b[0m \u001b[0maxis\u001b[0m\u001b[1;33m=\u001b[0m\u001b[1;36m1\u001b[0m\u001b[1;33m)\u001b[0m\u001b[1;33m\u001b[0m\u001b[0m\n\u001b[0m\u001b[0;32m      3\u001b[0m \u001b[0mdf_f\u001b[0m \u001b[1;31m## the user should select a reciepe by giving the name the next function will extract the ingrendients\u001b[0m\u001b[1;33m\u001b[0m\u001b[0m\n",
      "\u001b[1;31mNameError\u001b[0m: name 'df' is not defined"
     ]
    }
   ],
   "source": [
    "## merging the dataframes given by the two previous function\n",
    "df_f=pd.concat([df, df_2], axis=1)\n",
    "df_f ## the user should select a reciepe by giving the name the next function will extract the ingrendients"
   ]
  },
  {
   "cell_type": "code",
   "execution_count": 7,
   "metadata": {},
   "outputs": [
    {
     "ename": "NameError",
     "evalue": "name 'df_f' is not defined",
     "output_type": "error",
     "traceback": [
      "\u001b[1;31m---------------------------------------------------------------------------\u001b[0m",
      "\u001b[1;31mNameError\u001b[0m                                 Traceback (most recent call last)",
      "\u001b[1;32m<ipython-input-7-2384ddbe23ed>\u001b[0m in \u001b[0;36m<module>\u001b[1;34m()\u001b[0m\n\u001b[0;32m      1\u001b[0m \u001b[1;31m## Place the tkinter here\u001b[0m\u001b[1;33m\u001b[0m\u001b[1;33m\u001b[0m\u001b[0m\n\u001b[1;32m----> 2\u001b[1;33m \u001b[0mrows\u001b[0m\u001b[1;33m=\u001b[0m\u001b[1;33m[\u001b[0m\u001b[0mlist\u001b[0m\u001b[1;33m(\u001b[0m\u001b[0mdf_f\u001b[0m\u001b[1;33m.\u001b[0m\u001b[0miloc\u001b[0m\u001b[1;33m[\u001b[0m\u001b[0mi\u001b[0m\u001b[1;33m]\u001b[0m\u001b[1;33m)\u001b[0m \u001b[1;32mfor\u001b[0m \u001b[0mi\u001b[0m \u001b[1;32min\u001b[0m \u001b[0mrange\u001b[0m\u001b[1;33m(\u001b[0m\u001b[1;36m0\u001b[0m\u001b[1;33m,\u001b[0m\u001b[1;36m3\u001b[0m\u001b[1;33m)\u001b[0m\u001b[1;33m]\u001b[0m\u001b[1;33m\u001b[0m\u001b[0m\n\u001b[0m\u001b[0;32m      3\u001b[0m \u001b[0mrows\u001b[0m\u001b[1;33m\u001b[0m\u001b[0m\n",
      "\u001b[1;32m<ipython-input-7-2384ddbe23ed>\u001b[0m in \u001b[0;36m<listcomp>\u001b[1;34m(.0)\u001b[0m\n\u001b[0;32m      1\u001b[0m \u001b[1;31m## Place the tkinter here\u001b[0m\u001b[1;33m\u001b[0m\u001b[1;33m\u001b[0m\u001b[0m\n\u001b[1;32m----> 2\u001b[1;33m \u001b[0mrows\u001b[0m\u001b[1;33m=\u001b[0m\u001b[1;33m[\u001b[0m\u001b[0mlist\u001b[0m\u001b[1;33m(\u001b[0m\u001b[0mdf_f\u001b[0m\u001b[1;33m.\u001b[0m\u001b[0miloc\u001b[0m\u001b[1;33m[\u001b[0m\u001b[0mi\u001b[0m\u001b[1;33m]\u001b[0m\u001b[1;33m)\u001b[0m \u001b[1;32mfor\u001b[0m \u001b[0mi\u001b[0m \u001b[1;32min\u001b[0m \u001b[0mrange\u001b[0m\u001b[1;33m(\u001b[0m\u001b[1;36m0\u001b[0m\u001b[1;33m,\u001b[0m\u001b[1;36m3\u001b[0m\u001b[1;33m)\u001b[0m\u001b[1;33m]\u001b[0m\u001b[1;33m\u001b[0m\u001b[0m\n\u001b[0m\u001b[0;32m      3\u001b[0m \u001b[0mrows\u001b[0m\u001b[1;33m\u001b[0m\u001b[0m\n",
      "\u001b[1;31mNameError\u001b[0m: name 'df_f' is not defined"
     ]
    }
   ],
   "source": [
    "## Place the tkinter here\n",
    "rows=[list(df_f.iloc[i]) for i in range(0,3)]\n",
    "rows"
   ]
  },
  {
   "cell_type": "code",
   "execution_count": 7,
   "metadata": {},
   "outputs": [],
   "source": [
    "def tableau_Affichage(Liste_plats): ## nouveau 2\n",
    "    fenetre = Tk()\n",
    "    fenetre.title('Affichage des plats')\n",
    "    style = ttk.Style(fenetre)\n",
    "# set ttk theme to \"clam\" which support the fieldbackground option\n",
    "\n",
    "# Création et remplissage du tableau\n",
    "    libelle = Label(fenetre, text = 'PLATS')\n",
    "    libelle.pack(padx = 10, pady = 10)\n",
    "    tableau = ttk.Treeview(fenetre, columns=('Num','Nom', 'Note','Temps','difficulté','Cout'))\n",
    "    tableau.heading('Num', text='Num')\n",
    "    tableau.heading('Nom', text='Nom')\n",
    "    tableau.heading('Note', text='Note')\n",
    "    tableau.heading('Temps', text='Temps')\n",
    "    tableau.heading('difficulté', text='difficulté')\n",
    "    tableau.heading('Cout', text='Cout')               \n",
    "    tableau['show'] = 'headings' # sans ceci, il y avait une colonne vide à gauche qui a pour rôle d'afficher le paramètre \"text\" qui peut être spécifié lors du insert\n",
    "    tableau.pack(padx = 10, pady = (0, 10))\n",
    "    for i in range(0,len(Liste_plats)):\n",
    "        tableau.insert('', 'end', iid=i, values=(i,Liste_plats[i][0], Liste_plats[i][2], Liste_plats[i][4], Liste_plats[i][5],\n",
    "                                             Liste_plats[i][6]))\n",
    "    l=[]\n",
    "    def OK():\n",
    "        \"\"\" Récupérer ce qui a été saisi par l'utilisateur\"\"\"\n",
    "        choice=nom.get()\n",
    "        l.append(choice)\n",
    "        fenetre.destroy()\n",
    "    \n",
    "    libelle = Label(fenetre, text='Choisissez un plat :')\n",
    "    libelle.pack()\n",
    "    nom = Entry(fenetre)\n",
    "    nom.pack()\n",
    "    btn=Button(fenetre ,text=\"Ok\",command=OK)\n",
    "    btn.pack()\n",
    "    fenetre.mainloop()#\n",
    "    return (l[0])\n",
    "    "
   ]
  },
  {
   "cell_type": "code",
   "execution_count": 17,
   "metadata": {},
   "outputs": [],
   "source": [
    "def extract_ing(df_f,i):\n",
    "    dic = {}\n",
    "    url = df_f['lien'][i]\n",
    "    html=urlopen(url)\n",
    "    bs = BeautifulSoup(html, \"html.parser\")\n",
    "    poid = bs.find_all('div',{'class':'RCP__sc-8cqrvd-0 hSorOY'})\n",
    "    ing = bs.find_all('span',{'class':'SHRD__sc-10plygc-0 kWuxfa'})\n",
    "    for i in range(0,len(poid)):\n",
    "        ingredient = ing[i].get_text()\n",
    "        ingredient=ingredient.replace(\"de\",\"\",1)\n",
    "        ingredient=ingredient.replace(\"d'\",\"\",1)\n",
    "        dic[poid[i].get_text().replace('\\xa0','').replace('\\xa0','')] = ingredient\n",
    "        ## sometimes get_text() returns '\\xa0' and '\\xa0g'\n",
    "    return dic"
   ]
  },
  {
   "cell_type": "code",
   "execution_count": 141,
   "metadata": {},
   "outputs": [
    {
     "data": {
      "text/plain": [
       "{'25g': ' beurre doux ',\n",
       " '100g': ' beurre doux ',\n",
       " '1l': ' lait ',\n",
       " '1paquet': ' lasagnes ',\n",
       " '3': 'oignons jaunes ',\n",
       " '2gousses': 'ail ',\n",
       " '1branche': ' céleri ',\n",
       " '1': 'carotte ',\n",
       " '800g': ' purée de tomate ',\n",
       " '15cl': 'eau ',\n",
       " '20cl': ' vin rouge ',\n",
       " '2': 'feuilles  laurier ',\n",
       " '': 'poivre ',\n",
       " '3pincées': ' muscade râpée',\n",
       " '70g': ' fromage râpé ',\n",
       " '125g': ' Parmesan ',\n",
       " '600g': ' boeuf haché '}"
      ]
     },
     "execution_count": 141,
     "metadata": {},
     "output_type": "execute_result"
    }
   ],
   "source": [
    "extract_ing(df_f,0) ## probléme il faut enelver les \"de\" et d' mais sans impacter d'autres mots comme moutarde"
   ]
  },
  {
   "cell_type": "code",
   "execution_count": 18,
   "metadata": {},
   "outputs": [],
   "source": [
    "## Display the reciept\n",
    "def extract_rec (df_f,i): ## extraire la recette \n",
    "    url = df_f['lien'][i]\n",
    "    driver.get(url)\n",
    "    html=driver.page_source\n",
    "    bs = BeautifulSoup(html, \"html.parser\")\n",
    "    nbr_steps = len(bs.find_all('h3',{'class':'RCP__sc-1wtzf9a-1 ikYBNp'}))\n",
    "    for i in range(0,nbr_steps):\n",
    "        print(bs.find_all('h3',{'class':'RCP__sc-1wtzf9a-1 ikYBNp'})[i].get_text())\n",
    "        print(bs.find_all('p',{'class':'RCP__sc-1wtzf9a-3 jFIVDw'})[i].get_text())\n",
    "    \n",
    "    "
   ]
  },
  {
   "cell_type": "code",
   "execution_count": 10,
   "metadata": {},
   "outputs": [
    {
     "ename": "NameError",
     "evalue": "name 'df_f' is not defined",
     "output_type": "error",
     "traceback": [
      "\u001b[1;31m---------------------------------------------------------------------------\u001b[0m",
      "\u001b[1;31mNameError\u001b[0m                                 Traceback (most recent call last)",
      "\u001b[1;32m<ipython-input-10-3c2c4ec31709>\u001b[0m in \u001b[0;36m<module>\u001b[1;34m()\u001b[0m\n\u001b[1;32m----> 1\u001b[1;33m \u001b[0mextract_rec\u001b[0m\u001b[1;33m(\u001b[0m\u001b[0mdf_f\u001b[0m\u001b[1;33m,\u001b[0m\u001b[1;36m0\u001b[0m\u001b[1;33m)\u001b[0m\u001b[1;33m\u001b[0m\u001b[0m\n\u001b[0m",
      "\u001b[1;31mNameError\u001b[0m: name 'df_f' is not defined"
     ]
    }
   ],
   "source": [
    "extract_rec(df_f,0)"
   ]
  },
  {
   "cell_type": "markdown",
   "metadata": {},
   "source": [
    "# Partie Monoprix"
   ]
  },
  {
   "cell_type": "code",
   "execution_count": 19,
   "metadata": {
    "scrolled": true
   },
   "outputs": [],
   "source": [
    "def login_monoprix(email,mdp):\n",
    "    option = webdriver.ChromeOptions()\n",
    "    #Removes navigator.webdriver flag\n",
    "\n",
    "    # For older ChromeDriver under version 79.0.3945.16\n",
    "    #option.add_experimental_option(\"excludeSwitches\", [\"enable-automation\"])\n",
    "    #option.add_experimental_option('useAutomationExtension', False)\n",
    "\n",
    "        #For ChromeDriver version 79.0.3945.16 or over\n",
    "    option.add_argument('--disable-blink-features=AutomationControlled')\n",
    "\n",
    "\n",
    "        #Open Browser\n",
    "    driver = webdriver.Chrome(executable_path='chromedriver.exe',options=option)\n",
    "\n",
    "    driver.get('https://www.monoprix.fr/login')\n",
    "    \n",
    "    ## log in:\n",
    "    time.sleep(3)\n",
    "    driver.find_element_by_id('onetrust-close-btn-container').click() ## fermer la fenetre termes de navigation\n",
    "    driver.find_element_by_name('email').clear()\n",
    "    driver.find_element_by_name('email').send_keys(email)\n",
    "    driver.find_element_by_name('password').clear()\n",
    "    driver.find_element_by_name('password').send_keys(mdp)\n",
    "    driver.implicitly_wait(10)\n",
    "    driver.find_element_by_tag_name('button').click()\n",
    "    return driver"
   ]
  },
  {
   "cell_type": "code",
   "execution_count": 9,
   "metadata": {},
   "outputs": [],
   "source": [
    "def purchase_item(produit):\n",
    "    try:\n",
    "        ### Monoprix woorkeeeddd !!!!\n",
    "        #produit represents the item we want to purchase\n",
    "        driver.get('https://www.monoprix.fr/courses-en-ligne')\n",
    "        ## fonctionne mais qu'avec les entrées non composées je vais essayer une autre méthode\n",
    "        driver.find_element_by_tag_name('input').send_keys(produit) ## rajoute x à la barre de recherche \n",
    "        driver.implicitly_wait(5)\n",
    "        driver.find_element_by_class_name('total-result').click() ##valide la recherche \n",
    "        #driver.get(\"https://www.monoprix.fr/courses/search/\"+x+'/'+x)\n",
    "        driver.find_elements_by_class_name('add-to-cart-button__add-button')[0].click()\n",
    "        driver.implicitly_wait(10)\n",
    "        test = driver.find_elements_by_class_name('content')\n",
    "        driver.implicitly_wait(10)\n",
    "        test[14].find_elements_by_tag_name('button')[0].click() #IndexError: list index out of range\n",
    "\n",
    "    except IndexError :\n",
    "        driver.get('https://www.monoprix.fr/courses-en-ligne')\n",
    "        ## fonctionne mais qu'avec les entrées non composées je vais essayer une autre méthode\n",
    "        driver.find_element_by_tag_name('input').send_keys(produit) ## rajoute x à la barre de recherche \n",
    "        driver.implicitly_wait(5)\n",
    "        driver.find_element_by_class_name('total-result').click() ##valide la recherche \n",
    "        #driver.get(\"https://www.monoprix.fr/courses/search/\"+x+'/'+x)\n",
    "        driver.find_elements_by_class_name('add-to-cart-button__add-button')[0].click()\n",
    "        driver.implicitly_wait(10)\n",
    "        test = driver.find_elements_by_class_name('content')\n",
    "        driver.implicitly_wait(10)\n",
    "        test[14].find_elements_by_tag_name('button')[0].click() #IndexError: list index out of range"
   ]
  },
  {
   "cell_type": "code",
   "execution_count": 18,
   "metadata": {},
   "outputs": [],
   "source": [
    "purchase_item('patates',driver)"
   ]
  },
  {
   "cell_type": "code",
   "execution_count": 20,
   "metadata": {},
   "outputs": [],
   "source": [
    "def collect_date_time(): \n",
    "    date = driver.find_element_by_class_name('days-label').find_elements_by_tag_name('div')\n",
    "    time = driver.find_element_by_class_name('table-content').find_elements_by_tag_name('table')\n",
    "    horaires =list()\n",
    "    for i in date: \n",
    "        for j in time:\n",
    "           horaires.append([k.text for  k in j.find_element_by_tag_name('tbody').find_elements_by_tag_name('td') if 'positive' in k.get_attribute('class')])\n",
    "  \n",
    "    horaires_Date_1 = horaires[0]+horaires[1]+horaires[2] #['dès 09:00','dès 10:00','dès 11:00','dès 12:00','dès 13:00','dès 14:00','dès 15:00',...]\n",
    "    horaires_Date_2 = horaires[3]+horaires[4]+horaires[5]\n",
    "    horaires_Date_3 = horaires[6]+horaires[7]+horaires[8]\n",
    "    #horaires_Date_4 = horaires[9]+horaires[10]+horaires[11]\n",
    "    pickable_dates = {}\n",
    "    pickable_dates[date[0].text.replace('\\n',' ')]=horaires_Date_1\n",
    "    pickable_dates[date[1].text.replace('\\n',' ')]=horaires_Date_2\n",
    "    pickable_dates[date[2].text.replace('\\n',' ')]=horaires_Date_3\n",
    "    #pickable_dates[date[3].text.replace('\\n',' ')]=horaires_Date_4\n",
    "    \n",
    "    return pickable_dates\n",
    "\n",
    "#Cette procedure retourne un dictionnaire qui contient les differentes date et horaires pour collecter la commande sous cette forme\n",
    "##{'Lundi 14/02': ['dès 09:00','dès 10:00','dès 11:00','dès 12:00','dès 13:00','dès 14:00','dès 15:00','dès 16:00','dès 17:00','dès 18:00','dès 19:00'],'Mardi 15/02':[....]"
   ]
  },
  {
   "cell_type": "code",
   "execution_count": 21,
   "metadata": {},
   "outputs": [],
   "source": [
    "##Partie tkinter : Horaires\n",
    "def Afficher_Horaires(L_heure):\n",
    "    ##Création de l'interface\n",
    "    window=Tk()\n",
    "    window.title('Combobox') \n",
    "    window.geometry('300x200')   \n",
    "    Time_choose=[]\n",
    "    \n",
    "    l1=Label(window,text=\"Choisit une heure\")\n",
    "    l1.grid(column=0, row=0)\n",
    "    #Une liste qui est censé compporter les horaires possibles\n",
    "    Horaire=[]\n",
    "    for cle,valeur in L_heure.items():\n",
    "        #Récupération des dates et des heures pour les mettre dans une liste\n",
    "        for i in range (0,len(valeur)):\n",
    "            Horaire.append(cle +\" \" +valeur[i])\n",
    "           \n",
    "    def OK():\n",
    "        l2=Label(window,text=\"\")\n",
    "        l2.grid(column=0, row=8)\n",
    "        Jour_select=(cmb.get()[0:-10])\n",
    "        Time_choose.append(cmb.get()[0:-10])\n",
    "        Time_choose.append(cmb.get()[-10:-1]+cmb.get()[-1])\n",
    "        Heure_select=(cmb.get()[-11:-1]+cmb.get()[-1])\n",
    "        l2.configure(text=cmb.get())\n",
    "        window.destroy()\n",
    "        \n",
    "    cmb=ttk.Combobox(window,values=Horaire,width=30)\n",
    "    cmb.grid(column=0, row=1)\n",
    "    cmb.current(0)\n",
    "    btn=Button(window,text=\"OK\" ,command=OK)\n",
    "    btn.grid(column=2, row=1)\n",
    "    window.mainloop()\n",
    "    \n",
    "    return (Time_choose)"
   ]
  },
  {
   "cell_type": "code",
   "execution_count": 22,
   "metadata": {},
   "outputs": [],
   "source": [
    "def extract_nbr(x):\n",
    "    x=x.replace('dès','')\n",
    "    x=x.replace('0','')\n",
    "    x=x.replace(':','')\n",
    "    x=x.replace(' ','')\n",
    "    return int(x)"
   ]
  },
  {
   "cell_type": "code",
   "execution_count": 23,
   "metadata": {},
   "outputs": [],
   "source": [
    "def choix_creneau(Jour_select, heure_select):\n",
    "    heure_select = heure_select[1:]\n",
    "    d=[i.text.replace('\\n',' ') for i in driver.find_element_by_class_name('days-label').find_elements_by_tag_name('div')]\n",
    "    print(d)\n",
    "    driver.find_element_by_class_name('days-label').find_elements_by_tag_name('div')[d.index(Jour_select)].click()\n",
    "    if (extract_nbr(heure_select) <=11 ):\n",
    "        index = [i.text for i in driver.find_elements_by_class_name('hours-group__content__body')[0].find_elements_by_tag_name('td')].index(heure_select)\n",
    "        driver.find_elements_by_class_name('hours-group__content__body')[0].find_elements_by_tag_name('td')[index].click()\n",
    "    elif (extract_nbr(heure_select)>=12 and extract_nbr(heure_select)<=16):\n",
    "        index = [i.text for i in driver.find_elements_by_class_name('hours-group__content__body')[1].find_elements_by_tag_name('td')].index(heure_select)\n",
    "        driver.find_elements_by_class_name('hours-group__content__body')[1].find_elements_by_tag_name('td')[index].click()\n",
    "    else:\n",
    "        index = [i.text for i in driver.find_elements_by_class_name('hours-group__content__body')[2].find_elements_by_tag_name('td')].index(heure_select)\n",
    "        driver.find_elements_by_class_name('hours-group__content__body')[2].find_elements_by_tag_name('td')[index].click()\n",
    "    "
   ]
  },
  {
   "cell_type": "code",
   "execution_count": 24,
   "metadata": {},
   "outputs": [],
   "source": [
    "def check_item(produit): ## checks if item are returned as a result of the search or not\n",
    "    time.sleep(2)\n",
    "    #driver.find_element_by_id('onetrust-close-btn-container').click()\n",
    "    try:\n",
    "        driver.find_element_by_tag_name('input').clear()\n",
    "    except:\n",
    "        pass\n",
    "    driver.find_element_by_tag_name('input').send_keys(produit)\n",
    "    time.sleep(2)\n",
    "    #check_item('feuilles  laurier ')\n",
    "    try:\n",
    "        voir_boutton = driver.find_element_by_class_name('total-result')\n",
    "        return True\n",
    "    except: \n",
    "        return False"
   ]
  },
  {
   "cell_type": "code",
   "execution_count": 25,
   "metadata": {},
   "outputs": [],
   "source": [
    "def add_to_basket(produit):\n",
    "    driver.find_element_by_tag_name('input').clear()\n",
    "    driver.find_element_by_tag_name('input').send_keys(produit)\n",
    "    driver.implicitly_wait(5)\n",
    "    try:\n",
    "        driver.find_element_by_class_name('total-result').click()\n",
    "        driver.implicitly_wait(5)\n",
    "        driver.find_element_by_class_name('grocery-item__price-cart').find_element_by_tag_name('img').click()\n",
    "        driver.implicitly_wait(5)\n",
    "    except:\n",
    "        pass\n",
    "   \n"
   ]
  },
  {
   "cell_type": "code",
   "execution_count": 43,
   "metadata": {},
   "outputs": [],
   "source": [
    "L_ingr = [' beurre ',\n",
    " 'oeuf ',\n",
    " 'muscade',\n",
    " ' sucre vanillé ',\n",
    " 'jaunes oeuf ',\n",
    " ' farine ',\n",
    " ' sucre ',\n",
    " ' sel ',\n",
    " ' fraises (ou plus ;)',\n",
    " 'eau ']"
   ]
  },
  {
   "cell_type": "code",
   "execution_count": 44,
   "metadata": {},
   "outputs": [],
   "source": [
    "## monprix switch products\n",
    "driver = login_monoprix(\"Ziedkebir9@gmail.com\",\"123456@@Zied\")\n",
    "#driver.set_window_position(-10000,0)\n",
    "\n",
    "\n",
    "driver.get('https://www.monoprix.fr/courses-en-ligne') \n",
    "time.sleep(3)\n",
    "for i in range(0,len(L_ingr)):\n",
    "    if(check_item(L_ingr[i])):\n",
    "        rep = L_ingr[0]\n",
    "        L_ingr[0]=L_ingr[i]\n",
    "        L_ingr[i]=rep\n",
    "        break \n",
    "driver.close()\n",
    "\n"
   ]
  },
  {
   "cell_type": "code",
   "execution_count": 26,
   "metadata": {
    "scrolled": true
   },
   "outputs": [
    {
     "name": "stderr",
     "output_type": "stream",
     "text": [
      "<ipython-input-3-866b826cd2bd>:6: DeprecationWarning: find_element_by_* commands are deprecated. Please use find_element() instead\n",
      "  driver.find_element_by_id('didomi-notice-agree-button').click()\n",
      "<ipython-input-19-26a6fd673111>:14: DeprecationWarning: executable_path has been deprecated, please pass in a Service object\n",
      "  driver = webdriver.Chrome(executable_path='chromedriver.exe',options=option)\n",
      "<ipython-input-19-26a6fd673111>:20: DeprecationWarning: find_element_by_* commands are deprecated. Please use find_element() instead\n",
      "  driver.find_element_by_id('onetrust-close-btn-container').click() ## fermer la fenetre termes de navigation\n",
      "<ipython-input-19-26a6fd673111>:21: DeprecationWarning: find_element_by_* commands are deprecated. Please use find_element() instead\n",
      "  driver.find_element_by_name('email').clear()\n",
      "<ipython-input-19-26a6fd673111>:22: DeprecationWarning: find_element_by_* commands are deprecated. Please use find_element() instead\n",
      "  driver.find_element_by_name('email').send_keys(email)\n",
      "<ipython-input-19-26a6fd673111>:23: DeprecationWarning: find_element_by_* commands are deprecated. Please use find_element() instead\n",
      "  driver.find_element_by_name('password').clear()\n",
      "<ipython-input-19-26a6fd673111>:24: DeprecationWarning: find_element_by_* commands are deprecated. Please use find_element() instead\n",
      "  driver.find_element_by_name('password').send_keys(mdp)\n",
      "<ipython-input-19-26a6fd673111>:26: DeprecationWarning: find_element_by_* commands are deprecated. Please use find_element() instead\n",
      "  driver.find_element_by_tag_name('button').click()\n",
      "<ipython-input-24-4e8701f93f14>:5: DeprecationWarning: find_element_by_* commands are deprecated. Please use find_element() instead\n",
      "  driver.find_element_by_tag_name('input').clear()\n",
      "<ipython-input-24-4e8701f93f14>:8: DeprecationWarning: find_element_by_* commands are deprecated. Please use find_element() instead\n",
      "  driver.find_element_by_tag_name('input').send_keys(produit)\n"
     ]
    },
    {
     "ename": "ElementNotInteractableException",
     "evalue": "Message: element not interactable\n  (Session info: chrome=91.0.4472.77)\nStacktrace:\nBacktrace:\n\tOrdinal0 [0x00773733+2504499]\n\tOrdinal0 [0x0070C401+2081793]\n\tOrdinal0 [0x006124F0+1058032]\n\tOrdinal0 [0x00638523+1213731]\n\tOrdinal0 [0x00637C4A+1211466]\n\tOrdinal0 [0x00655E83+1334915]\n\tOrdinal0 [0x00633586+1193350]\n\tOrdinal0 [0x00655F6A+1335146]\n\tOrdinal0 [0x00664CDB+1395931]\n\tOrdinal0 [0x00655D4B+1334603]\n\tOrdinal0 [0x006322B4+1188532]\n\tOrdinal0 [0x00633149+1192265]\n\tGetHandleVerifier [0x008EFB8C+1512252]\n\tGetHandleVerifier [0x0099B0DF+2214031]\n\tGetHandleVerifier [0x007F4BC3+484211]\n\tGetHandleVerifier [0x007F3E69+480793]\n\tOrdinal0 [0x0071218D+2105741]\n\tOrdinal0 [0x007166E8+2123496]\n\tOrdinal0 [0x00716827+2123815]\n\tOrdinal0 [0x0071FB73+2161523]\n\tBaseThreadInitThunk [0x762EFA29+25]\n\tRtlGetAppContainerNamedObjectPath [0x77D27A9E+286]\n\tRtlGetAppContainerNamedObjectPath [0x77D27A6E+238]\n",
     "output_type": "error",
     "traceback": [
      "\u001b[1;31m---------------------------------------------------------------------------\u001b[0m",
      "\u001b[1;31mElementNotInteractableException\u001b[0m           Traceback (most recent call last)",
      "\u001b[1;32m<ipython-input-26-0aa86fe31a21>\u001b[0m in \u001b[0;36m<module>\u001b[1;34m\u001b[0m\n\u001b[0;32m     19\u001b[0m \u001b[0mtime\u001b[0m\u001b[1;33m.\u001b[0m\u001b[0msleep\u001b[0m\u001b[1;33m(\u001b[0m\u001b[1;36m3\u001b[0m\u001b[1;33m)\u001b[0m\u001b[1;33m\u001b[0m\u001b[1;33m\u001b[0m\u001b[0m\n\u001b[0;32m     20\u001b[0m \u001b[1;32mfor\u001b[0m \u001b[0mi\u001b[0m \u001b[1;32min\u001b[0m \u001b[0mrange\u001b[0m\u001b[1;33m(\u001b[0m\u001b[1;36m0\u001b[0m\u001b[1;33m,\u001b[0m\u001b[0mlen\u001b[0m\u001b[1;33m(\u001b[0m\u001b[0mL_ingr\u001b[0m\u001b[1;33m)\u001b[0m\u001b[1;33m)\u001b[0m\u001b[1;33m:\u001b[0m\u001b[1;33m\u001b[0m\u001b[1;33m\u001b[0m\u001b[0m\n\u001b[1;32m---> 21\u001b[1;33m     \u001b[1;32mif\u001b[0m\u001b[1;33m(\u001b[0m\u001b[0mcheck_item\u001b[0m\u001b[1;33m(\u001b[0m\u001b[0mL_ingr\u001b[0m\u001b[1;33m[\u001b[0m\u001b[0mi\u001b[0m\u001b[1;33m]\u001b[0m\u001b[1;33m)\u001b[0m\u001b[1;33m)\u001b[0m\u001b[1;33m:\u001b[0m\u001b[1;33m\u001b[0m\u001b[1;33m\u001b[0m\u001b[0m\n\u001b[0m\u001b[0;32m     22\u001b[0m         \u001b[0mrep\u001b[0m \u001b[1;33m=\u001b[0m \u001b[0mL_ingr\u001b[0m\u001b[1;33m[\u001b[0m\u001b[1;36m0\u001b[0m\u001b[1;33m]\u001b[0m\u001b[1;33m\u001b[0m\u001b[1;33m\u001b[0m\u001b[0m\n\u001b[0;32m     23\u001b[0m         \u001b[0mL_ingr\u001b[0m\u001b[1;33m[\u001b[0m\u001b[1;36m0\u001b[0m\u001b[1;33m]\u001b[0m\u001b[1;33m=\u001b[0m\u001b[0mL_ingr\u001b[0m\u001b[1;33m[\u001b[0m\u001b[0mi\u001b[0m\u001b[1;33m]\u001b[0m\u001b[1;33m\u001b[0m\u001b[1;33m\u001b[0m\u001b[0m\n",
      "\u001b[1;32m<ipython-input-24-4e8701f93f14>\u001b[0m in \u001b[0;36mcheck_item\u001b[1;34m(produit)\u001b[0m\n\u001b[0;32m      6\u001b[0m     \u001b[1;32mexcept\u001b[0m\u001b[1;33m:\u001b[0m\u001b[1;33m\u001b[0m\u001b[1;33m\u001b[0m\u001b[0m\n\u001b[0;32m      7\u001b[0m         \u001b[1;32mpass\u001b[0m\u001b[1;33m\u001b[0m\u001b[1;33m\u001b[0m\u001b[0m\n\u001b[1;32m----> 8\u001b[1;33m     \u001b[0mdriver\u001b[0m\u001b[1;33m.\u001b[0m\u001b[0mfind_element_by_tag_name\u001b[0m\u001b[1;33m(\u001b[0m\u001b[1;34m'input'\u001b[0m\u001b[1;33m)\u001b[0m\u001b[1;33m.\u001b[0m\u001b[0msend_keys\u001b[0m\u001b[1;33m(\u001b[0m\u001b[0mproduit\u001b[0m\u001b[1;33m)\u001b[0m\u001b[1;33m\u001b[0m\u001b[1;33m\u001b[0m\u001b[0m\n\u001b[0m\u001b[0;32m      9\u001b[0m     \u001b[0mtime\u001b[0m\u001b[1;33m.\u001b[0m\u001b[0msleep\u001b[0m\u001b[1;33m(\u001b[0m\u001b[1;36m2\u001b[0m\u001b[1;33m)\u001b[0m\u001b[1;33m\u001b[0m\u001b[1;33m\u001b[0m\u001b[0m\n\u001b[0;32m     10\u001b[0m     \u001b[1;31m#check_item('feuilles  laurier ')\u001b[0m\u001b[1;33m\u001b[0m\u001b[1;33m\u001b[0m\u001b[1;33m\u001b[0m\u001b[0m\n",
      "\u001b[1;32mC:\\ProgramData\\Anaconda3\\lib\\site-packages\\selenium\\webdriver\\remote\\webelement.py\u001b[0m in \u001b[0;36msend_keys\u001b[1;34m(self, *value)\u001b[0m\n\u001b[0;32m    538\u001b[0m                 \u001b[0mvalue\u001b[0m \u001b[1;33m=\u001b[0m \u001b[1;34m'\\n'\u001b[0m\u001b[1;33m.\u001b[0m\u001b[0mjoin\u001b[0m\u001b[1;33m(\u001b[0m\u001b[0mremote_files\u001b[0m\u001b[1;33m)\u001b[0m\u001b[1;33m\u001b[0m\u001b[1;33m\u001b[0m\u001b[0m\n\u001b[0;32m    539\u001b[0m \u001b[1;33m\u001b[0m\u001b[0m\n\u001b[1;32m--> 540\u001b[1;33m         self._execute(Command.SEND_KEYS_TO_ELEMENT,\n\u001b[0m\u001b[0;32m    541\u001b[0m                       {'text': \"\".join(keys_to_typing(value)),\n\u001b[0;32m    542\u001b[0m                        'value': keys_to_typing(value)})\n",
      "\u001b[1;32mC:\\ProgramData\\Anaconda3\\lib\\site-packages\\selenium\\webdriver\\remote\\webelement.py\u001b[0m in \u001b[0;36m_execute\u001b[1;34m(self, command, params)\u001b[0m\n\u001b[0;32m    708\u001b[0m             \u001b[0mparams\u001b[0m \u001b[1;33m=\u001b[0m \u001b[1;33m{\u001b[0m\u001b[1;33m}\u001b[0m\u001b[1;33m\u001b[0m\u001b[1;33m\u001b[0m\u001b[0m\n\u001b[0;32m    709\u001b[0m         \u001b[0mparams\u001b[0m\u001b[1;33m[\u001b[0m\u001b[1;34m'id'\u001b[0m\u001b[1;33m]\u001b[0m \u001b[1;33m=\u001b[0m \u001b[0mself\u001b[0m\u001b[1;33m.\u001b[0m\u001b[0m_id\u001b[0m\u001b[1;33m\u001b[0m\u001b[1;33m\u001b[0m\u001b[0m\n\u001b[1;32m--> 710\u001b[1;33m         \u001b[1;32mreturn\u001b[0m \u001b[0mself\u001b[0m\u001b[1;33m.\u001b[0m\u001b[0m_parent\u001b[0m\u001b[1;33m.\u001b[0m\u001b[0mexecute\u001b[0m\u001b[1;33m(\u001b[0m\u001b[0mcommand\u001b[0m\u001b[1;33m,\u001b[0m \u001b[0mparams\u001b[0m\u001b[1;33m)\u001b[0m\u001b[1;33m\u001b[0m\u001b[1;33m\u001b[0m\u001b[0m\n\u001b[0m\u001b[0;32m    711\u001b[0m \u001b[1;33m\u001b[0m\u001b[0m\n\u001b[0;32m    712\u001b[0m     \u001b[1;32mdef\u001b[0m \u001b[0mfind_element\u001b[0m\u001b[1;33m(\u001b[0m\u001b[0mself\u001b[0m\u001b[1;33m,\u001b[0m \u001b[0mby\u001b[0m\u001b[1;33m=\u001b[0m\u001b[0mBy\u001b[0m\u001b[1;33m.\u001b[0m\u001b[0mID\u001b[0m\u001b[1;33m,\u001b[0m \u001b[0mvalue\u001b[0m\u001b[1;33m=\u001b[0m\u001b[1;32mNone\u001b[0m\u001b[1;33m)\u001b[0m\u001b[1;33m:\u001b[0m\u001b[1;33m\u001b[0m\u001b[1;33m\u001b[0m\u001b[0m\n",
      "\u001b[1;32mC:\\ProgramData\\Anaconda3\\lib\\site-packages\\selenium\\webdriver\\remote\\webdriver.py\u001b[0m in \u001b[0;36mexecute\u001b[1;34m(self, driver_command, params)\u001b[0m\n\u001b[0;32m    422\u001b[0m         \u001b[0mresponse\u001b[0m \u001b[1;33m=\u001b[0m \u001b[0mself\u001b[0m\u001b[1;33m.\u001b[0m\u001b[0mcommand_executor\u001b[0m\u001b[1;33m.\u001b[0m\u001b[0mexecute\u001b[0m\u001b[1;33m(\u001b[0m\u001b[0mdriver_command\u001b[0m\u001b[1;33m,\u001b[0m \u001b[0mparams\u001b[0m\u001b[1;33m)\u001b[0m\u001b[1;33m\u001b[0m\u001b[1;33m\u001b[0m\u001b[0m\n\u001b[0;32m    423\u001b[0m         \u001b[1;32mif\u001b[0m \u001b[0mresponse\u001b[0m\u001b[1;33m:\u001b[0m\u001b[1;33m\u001b[0m\u001b[1;33m\u001b[0m\u001b[0m\n\u001b[1;32m--> 424\u001b[1;33m             \u001b[0mself\u001b[0m\u001b[1;33m.\u001b[0m\u001b[0merror_handler\u001b[0m\u001b[1;33m.\u001b[0m\u001b[0mcheck_response\u001b[0m\u001b[1;33m(\u001b[0m\u001b[0mresponse\u001b[0m\u001b[1;33m)\u001b[0m\u001b[1;33m\u001b[0m\u001b[1;33m\u001b[0m\u001b[0m\n\u001b[0m\u001b[0;32m    425\u001b[0m             response['value'] = self._unwrap_value(\n\u001b[0;32m    426\u001b[0m                 response.get('value', None))\n",
      "\u001b[1;32mC:\\ProgramData\\Anaconda3\\lib\\site-packages\\selenium\\webdriver\\remote\\errorhandler.py\u001b[0m in \u001b[0;36mcheck_response\u001b[1;34m(self, response)\u001b[0m\n\u001b[0;32m    245\u001b[0m                 \u001b[0malert_text\u001b[0m \u001b[1;33m=\u001b[0m \u001b[0mvalue\u001b[0m\u001b[1;33m[\u001b[0m\u001b[1;34m'alert'\u001b[0m\u001b[1;33m]\u001b[0m\u001b[1;33m.\u001b[0m\u001b[0mget\u001b[0m\u001b[1;33m(\u001b[0m\u001b[1;34m'text'\u001b[0m\u001b[1;33m)\u001b[0m\u001b[1;33m\u001b[0m\u001b[1;33m\u001b[0m\u001b[0m\n\u001b[0;32m    246\u001b[0m             \u001b[1;32mraise\u001b[0m \u001b[0mexception_class\u001b[0m\u001b[1;33m(\u001b[0m\u001b[0mmessage\u001b[0m\u001b[1;33m,\u001b[0m \u001b[0mscreen\u001b[0m\u001b[1;33m,\u001b[0m \u001b[0mstacktrace\u001b[0m\u001b[1;33m,\u001b[0m \u001b[0malert_text\u001b[0m\u001b[1;33m)\u001b[0m  \u001b[1;31m# type: ignore[call-arg]  # mypy is not smart enough here\u001b[0m\u001b[1;33m\u001b[0m\u001b[1;33m\u001b[0m\u001b[0m\n\u001b[1;32m--> 247\u001b[1;33m         \u001b[1;32mraise\u001b[0m \u001b[0mexception_class\u001b[0m\u001b[1;33m(\u001b[0m\u001b[0mmessage\u001b[0m\u001b[1;33m,\u001b[0m \u001b[0mscreen\u001b[0m\u001b[1;33m,\u001b[0m \u001b[0mstacktrace\u001b[0m\u001b[1;33m)\u001b[0m\u001b[1;33m\u001b[0m\u001b[1;33m\u001b[0m\u001b[0m\n\u001b[0m\u001b[0;32m    248\u001b[0m \u001b[1;33m\u001b[0m\u001b[0m\n\u001b[0;32m    249\u001b[0m     \u001b[1;32mdef\u001b[0m \u001b[0m_value_or_default\u001b[0m\u001b[1;33m(\u001b[0m\u001b[0mself\u001b[0m\u001b[1;33m,\u001b[0m \u001b[0mobj\u001b[0m\u001b[1;33m:\u001b[0m \u001b[0mMapping\u001b[0m\u001b[1;33m[\u001b[0m\u001b[0m_KT\u001b[0m\u001b[1;33m,\u001b[0m \u001b[0m_VT\u001b[0m\u001b[1;33m]\u001b[0m\u001b[1;33m,\u001b[0m \u001b[0mkey\u001b[0m\u001b[1;33m:\u001b[0m \u001b[0m_KT\u001b[0m\u001b[1;33m,\u001b[0m \u001b[0mdefault\u001b[0m\u001b[1;33m:\u001b[0m \u001b[0m_VT\u001b[0m\u001b[1;33m)\u001b[0m \u001b[1;33m->\u001b[0m \u001b[0m_VT\u001b[0m\u001b[1;33m:\u001b[0m\u001b[1;33m\u001b[0m\u001b[1;33m\u001b[0m\u001b[0m\n",
      "\u001b[1;31mElementNotInteractableException\u001b[0m: Message: element not interactable\n  (Session info: chrome=91.0.4472.77)\nStacktrace:\nBacktrace:\n\tOrdinal0 [0x00773733+2504499]\n\tOrdinal0 [0x0070C401+2081793]\n\tOrdinal0 [0x006124F0+1058032]\n\tOrdinal0 [0x00638523+1213731]\n\tOrdinal0 [0x00637C4A+1211466]\n\tOrdinal0 [0x00655E83+1334915]\n\tOrdinal0 [0x00633586+1193350]\n\tOrdinal0 [0x00655F6A+1335146]\n\tOrdinal0 [0x00664CDB+1395931]\n\tOrdinal0 [0x00655D4B+1334603]\n\tOrdinal0 [0x006322B4+1188532]\n\tOrdinal0 [0x00633149+1192265]\n\tGetHandleVerifier [0x008EFB8C+1512252]\n\tGetHandleVerifier [0x0099B0DF+2214031]\n\tGetHandleVerifier [0x007F4BC3+484211]\n\tGetHandleVerifier [0x007F3E69+480793]\n\tOrdinal0 [0x0071218D+2105741]\n\tOrdinal0 [0x007166E8+2123496]\n\tOrdinal0 [0x00716827+2123815]\n\tOrdinal0 [0x0071FB73+2161523]\n\tBaseThreadInitThunk [0x762EFA29+25]\n\tRtlGetAppContainerNamedObjectPath [0x77D27A9E+286]\n\tRtlGetAppContainerNamedObjectPath [0x77D27A6E+238]\n"
     ]
    }
   ],
   "source": [
    "#marmiton ##marker\n",
    "Plat=Interface_Saisie()\n",
    "bs = saisir_recette(Plat)\n",
    "df = extract(bs)\n",
    "df2 = extract_inf(df,bs)\n",
    "df_f=pd.concat([df, df2], axis=1)\n",
    "rows=[list(df_f.iloc[i]) for i in range(0,3)]\n",
    "\n",
    "rec_choix=tableau_Affichage(rows)\n",
    "\n",
    "ingr = extract_ing(df_f,int(rec_choix))\n",
    "L_ingr = list(set([i for i in ingr.values()]))\n",
    "## monprix\n",
    "driver = login_monoprix(\"Ziedkebir9@gmail.com\",\"123456@@Zied\")\n",
    "#driver.set_window_position(-10000,0)\n",
    "# Strat by switching the products order in L_ingr so that the first product is purchasable\n",
    "\n",
    "driver.get('https://www.monoprix.fr/courses-en-ligne') \n",
    "time.sleep(3)\n",
    "for i in range(0,len(L_ingr)):\n",
    "    if(check_item(L_ingr[i])):\n",
    "        rep = L_ingr[0]\n",
    "        L_ingr[0]=L_ingr[i]\n",
    "        L_ingr[i]=rep\n",
    "        break \n",
    "#driver.close()\n",
    "\n",
    "driver.get('https://www.monoprix.fr/courses-en-ligne') \n",
    "purchase_item(L_ingr[0])\n",
    "time.sleep(3)\n",
    "x=Afficher_Horaires(collect_date_time())\n",
    "choix_creneau(x[0], x[1])\n",
    "not_found_prod = list() ##va contenir les produits qui n'ont pas été trouvé sur le site\n",
    "\n",
    "for i in range(1,len(L_ingr)):\n",
    "    add_to_basket(L_ingr[i])\n",
    "        \n",
    "driver.get('https://www.monoprix.fr/courses/tunnel/panier')\n",
    "    "
   ]
  },
  {
   "cell_type": "code",
   "execution_count": 32,
   "metadata": {},
   "outputs": [],
   "source": [
    "L_ingr = ['oeuf ',\n",
    " ' lait ',\n",
    " ' sucre vanillé ',\n",
    " 'jaunes oeuf ',\n",
    " ' farine ',\n",
    " ' sucre ',\n",
    " ' beurre ',\n",
    " ' sel ',\n",
    " ' fraises (ou plus ;)',\n",
    " 'eau ']"
   ]
  },
  {
   "cell_type": "code",
   "execution_count": 17,
   "metadata": {},
   "outputs": [
    {
     "ename": "NameError",
     "evalue": "name 'extract_ing' is not defined",
     "output_type": "error",
     "traceback": [
      "\u001b[1;31m---------------------------------------------------------------------------\u001b[0m",
      "\u001b[1;31mNameError\u001b[0m                                 Traceback (most recent call last)",
      "\u001b[1;32m<ipython-input-17-b9b5f116e343>\u001b[0m in \u001b[0;36m<module>\u001b[1;34m()\u001b[0m\n\u001b[1;32m----> 1\u001b[1;33m \u001b[0mingr\u001b[0m \u001b[1;33m=\u001b[0m \u001b[0mextract_ing\u001b[0m\u001b[1;33m(\u001b[0m\u001b[0mdf_f\u001b[0m\u001b[1;33m,\u001b[0m\u001b[0mint\u001b[0m\u001b[1;33m(\u001b[0m\u001b[0mrec_choix\u001b[0m\u001b[1;33m)\u001b[0m\u001b[1;33m)\u001b[0m\u001b[1;33m\u001b[0m\u001b[0m\n\u001b[0m\u001b[0;32m      2\u001b[0m \u001b[0mL_ingr\u001b[0m \u001b[1;33m=\u001b[0m \u001b[0mlist\u001b[0m\u001b[1;33m(\u001b[0m\u001b[0mset\u001b[0m\u001b[1;33m(\u001b[0m\u001b[1;33m[\u001b[0m\u001b[0mi\u001b[0m \u001b[1;32mfor\u001b[0m \u001b[0mi\u001b[0m \u001b[1;32min\u001b[0m \u001b[0mingr\u001b[0m\u001b[1;33m.\u001b[0m\u001b[0mvalues\u001b[0m\u001b[1;33m(\u001b[0m\u001b[1;33m)\u001b[0m\u001b[1;33m]\u001b[0m\u001b[1;33m)\u001b[0m\u001b[1;33m)\u001b[0m\u001b[1;33m\u001b[0m\u001b[0m\n\u001b[0;32m      3\u001b[0m \u001b[1;31m## monprix\u001b[0m\u001b[1;33m\u001b[0m\u001b[1;33m\u001b[0m\u001b[0m\n\u001b[0;32m      4\u001b[0m \u001b[0mdriver\u001b[0m \u001b[1;33m=\u001b[0m \u001b[0mlogin_monoprix\u001b[0m\u001b[1;33m(\u001b[0m\u001b[1;34m\"Ziedkebir9@gmail.com\"\u001b[0m\u001b[1;33m,\u001b[0m\u001b[1;34m\"123456@@Zied\"\u001b[0m\u001b[1;33m)\u001b[0m\u001b[1;33m\u001b[0m\u001b[0m\n\u001b[0;32m      5\u001b[0m \u001b[1;31m#driver.set_window_position(-10000,0)\u001b[0m\u001b[1;33m\u001b[0m\u001b[1;33m\u001b[0m\u001b[0m\n",
      "\u001b[1;31mNameError\u001b[0m: name 'extract_ing' is not defined"
     ]
    }
   ],
   "source": [
    "ingr = extract_ing(df_f,int(rec_choix))\n",
    "L_ingr = list(set([i for i in ingr.values()]))\n",
    "## monprix\n",
    "driver = login_monoprix(\"Ziedkebir9@gmail.com\",\"123456@@Zied\")\n",
    "#driver.set_window_position(-10000,0)\n",
    "\n",
    "time.sleep(5)\n",
    "\n",
    "driver = webdriver.Chrome()\n",
    "driver.get('https://www.monoprix.fr/courses-en-ligne') \n",
    "time.sleep(3)\n",
    "driver.find_element_by_id('onetrust-close-btn-container').click()\n",
    "not_found_prod = [i for i in L_ingr if check_item(i)==False]\n",
    "for i in range(0,len(L_ingr)):\n",
    "    if(check_item(i)):\n",
    "        rep = L_ingr[0]\n",
    "        L_ingr[0]=L_ingr[i]\n",
    "        L_ingr=rep\n",
    "        \n",
    "driver.close()\n",
    "\n"
   ]
  },
  {
   "cell_type": "code",
   "execution_count": 115,
   "metadata": {},
   "outputs": [
    {
     "data": {
      "text/plain": [
       "[' sucre ', ' levure de boulangerie express', 'eau tiè', ' farine ']"
      ]
     },
     "execution_count": 115,
     "metadata": {},
     "output_type": "execute_result"
    }
   ],
   "source": [
    "L_ingr"
   ]
  },
  {
   "cell_type": "code",
   "execution_count": 97,
   "metadata": {},
   "outputs": [
    {
     "data": {
      "text/plain": [
       "['feuilles  laurier ', ' muscade râpée']"
      ]
     },
     "execution_count": 97,
     "metadata": {},
     "output_type": "execute_result"
    }
   ],
   "source": [
    "not_found_prod"
   ]
  },
  {
   "cell_type": "code",
   "execution_count": 101,
   "metadata": {},
   "outputs": [
    {
     "data": {
      "text/plain": [
       "[' farine blanche',\n",
       " 'eau tié',\n",
       " ' sel ',\n",
       " \"huile d'olive \",\n",
       " 'fromage râpé (facultatif)',\n",
       " ' levure boulangère spéciale pain']"
      ]
     },
     "execution_count": 101,
     "metadata": {},
     "output_type": "execute_result"
    }
   ],
   "source": [
    "L_ingr"
   ]
  },
  {
   "cell_type": "code",
   "execution_count": 90,
   "metadata": {},
   "outputs": [
    {
     "data": {
      "text/plain": [
       "[' purée de tomate ',\n",
       " ' vin rouge ',\n",
       " 'feuilles  laurier ',\n",
       " 'poivre ',\n",
       " ' muscade râpée',\n",
       " ' fromage râpé ',\n",
       " ' Parmesan ',\n",
       " ' lait ',\n",
       " ' beurre doux ',\n",
       " 'carotte ',\n",
       " 'oignons jaunes ',\n",
       " 'eau ',\n",
       " 'ail ',\n",
       " ' boeuf haché ',\n",
       " ' céleri ',\n",
       " ' lasagnes ']"
      ]
     },
     "execution_count": 90,
     "metadata": {},
     "output_type": "execute_result"
    }
   ],
   "source": [
    "L_ingr"
   ]
  },
  {
   "cell_type": "markdown",
   "metadata": {},
   "source": [
    "# Functions to Discard"
   ]
  },
  {
   "cell_type": "code",
   "execution_count": 134,
   "metadata": {},
   "outputs": [],
   "source": [
    "## after selecting the date the user can select the time\n",
    "## Cette fonction permet d'extraire les horaires qui peuvent etre selectionnés\n",
    "def click_and_collect_time():\n",
    "    #for i in driver.find_element_by_class_name('days-label').find_elements_by_tag_name('div'):\n",
    "        #driver.find_element_by_class_name('days-label').find_elements_by_tag_name('div')[j].click()\n",
    "        \n",
    "    matin=[i.text for i in driver.find_element_by_xpath('//table[1]').find_elements_by_tag_name('tr')[1].find_elements_by_tag_name('td')\n",
    "          if 'positive' in i.get_attribute('class')] ##si positive se trouve dans la class cela signifie que l'horaire peut etre selectionné\n",
    "    midi= [i.text for i in driver.find_element_by_xpath('//table[2]').find_elements_by_tag_name('tr')[1].find_elements_by_tag_name('td')\n",
    "          if 'positive' in i.get_attribute('class')]\n",
    "    soir=[i.text for i in driver.find_element_by_xpath('//table[3]').find_elements_by_tag_name('tr')[1].find_elements_by_tag_name('td')\n",
    "          if 'positive' in i.get_attribute('class')]\n",
    "    #j+=1\n",
    "    créneaux = {}\n",
    "    créneaux['matin']=matin\n",
    "    créneaux['midi']=midi\n",
    "    créneaux['soir']=soir\n",
    "    return créneaux\n",
    "\n",
    "#l'output est sous cette forme:\n",
    "#{'matin': ['dès 10:00', 'dès 11:00'],\n",
    " #'midi': ['dès 12:00', 'dès 13:00', 'dès 14:00', 'dès 15:00', 'dès 16:00'],\n",
    " #'soir': ['dès 17:00', 'dès 18:00', 'dès 19:00']}\n"
   ]
  },
  {
   "cell_type": "code",
   "execution_count": null,
   "metadata": {},
   "outputs": [],
   "source": [
    "## function that returns the available dates\n",
    "def click_and_collect_dates():\n",
    "    date= []\n",
    "    date = [i.text.replace(\"\\n\",': ') for i in driver.find_element_by_class_name('days-label').find_elements_by_tag_name('div')]\n",
    "    return date\n",
    "# the result will be in the form : ['Demain 08/02','Mercredi 09/02', 'Jeudi 10/02', 'Vendredi 11/02', 'Samedi 12/02']"
   ]
  },
  {
   "cell_type": "code",
   "execution_count": null,
   "metadata": {},
   "outputs": [],
   "source": [
    "def date_créneau():\n",
    "    j=0\n",
    "    for i in driver.find_element_by_class_name('days-label').find_elements_by_tag_name('div'):\n",
    "        driver.find_element_by_class_name('days-label').find_elements_by_tag_name('div')[j]\n",
    "        j+=1\n",
    "        print('')\n",
    "        print(i.text.replace('\\n',''))\n",
    "        print('')\n",
    "        print(click_and_collect_time())        "
   ]
  },
  {
   "cell_type": "code",
   "execution_count": null,
   "metadata": {},
   "outputs": [],
   "source": [
    "def purchase_item(produit,driver):\n",
    "    driver.implicitly_wait(10)\n",
    "    ### Monoprix woorkeeeddd !!!!\n",
    "    #produit represents the item we want to purchase\n",
    "    driver.get('https://www.monoprix.fr/courses-en-ligne')\n",
    "        ## fonctionne mais qu'avec les entrées non composées je vais essayer une autre méthode\n",
    "    driver.find_element_by_tag_name('input').send_keys(produit) ## rajoute x à la barre de recherche \n",
    "    driver.implicitly_wait(5)\n",
    "    driver.find_element_by_class_name('total-result').click() ##valide la recherche \n",
    "    #driver.get(\"https://www.monoprix.fr/courses/search/\"+x+'/'+x)\n",
    "    driver.find_elements_by_class_name('add-to-cart-button__add-button')[0].click()\n",
    "    driver.implicitly_wait(10)\n",
    "    test = driver.find_elements_by_class_name('content')\n",
    "    driver.implicitly_wait(10)\n",
    "    test[14].find_elements_by_tag_name('button')[0].click() #IndexError: list index out of range\n",
    "  "
   ]
  },
  {
   "cell_type": "code",
   "execution_count": 126,
   "metadata": {},
   "outputs": [],
   "source": [
    "def purchase_item(produit):\n",
    "    driver.implicitly_wait(10)\n",
    "    try:\n",
    "        ### Monoprix woorkeeeddd !!!!\n",
    "        #produit represents the item we want to purchase\n",
    "        driver.get('https://www.monoprix.fr/courses-en-ligne')\n",
    "         ## fonctionne mais qu'avec les entrées non composées je vais essayer une autre méthode\n",
    "        driver.find_element_by_tag_name('input').send_keys(produit) ## rajoute x à la barre de recherche \n",
    "        driver.implicitly_wait(5)\n",
    "        driver.find_element_by_class_name('total-result').click() ##valide la recherche \n",
    "        #driver.get(\"https://www.monoprix.fr/courses/search/\"+x+'/'+x)\n",
    "        driver.find_elements_by_class_name('add-to-cart-button__add-button')[0].click()\n",
    "        driver.implicitly_wait(10)\n",
    "        test = driver.find_elements_by_class_name('content')\n",
    "        driver.implicitly_wait(10)\n",
    "        test[14].find_elements_by_tag_name('button')[0].click() #IndexError: list index out of range\n",
    "    except:\n",
    "        ### Monoprix woorkeeeddd !!!!\n",
    "        #produit represents the item we want to purchase\n",
    "        driver.get('https://www.monoprix.fr/courses-en-ligne')\n",
    "        ## fonctionne mais qu'avec les entrées non composées je vais essayer une autre méthode\n",
    "        driver.find_element_by_tag_name('input').send_keys(produit) ## rajoute x à la barre de recherche \n",
    "        driver.implicitly_wait(5)\n",
    "        driver.find_element_by_class_name('total-result').click() ##valide la recherche \n",
    "        #driver.get(\"https://www.monoprix.fr/courses/search/\"+x+'/'+x)\n",
    "        driver.find_elements_by_class_name('add-to-cart-button__add-button')[0].click()\n",
    "        driver.implicitly_wait(10)\n",
    "        test = driver.find_elements_by_class_name('content')\n",
    "        driver.implicitly_wait(10)\n",
    "        test[14].find_elements_by_tag_name('button')[0].click() #IndexError: list index out of range\n",
    "\n"
   ]
  },
  {
   "cell_type": "code",
   "execution_count": null,
   "metadata": {},
   "outputs": [],
   "source": [
    "## On montre la liste finale et on demande dans quel porduit il y'a une erreur l'utilisateur choisit le produit et ensuite il choisit quel\n",
    "#produit cloche"
   ]
  },
  {
   "cell_type": "code",
   "execution_count": null,
   "metadata": {},
   "outputs": [],
   "source": [
    "\n",
    "def tableau_fin(): ## nouveau 2\n",
    "    fin = Tk()\n",
    "    fin.title('Affichage des plats')\n",
    "    style = ttk.Style(fenetre)\n",
    "# set ttk theme to \"clam\" which support the fieldbackground option\n",
    "\n",
    "# Création et remplissage du tableau\n",
    "    libelle = Label(fenetre, text = 'INGREDIENTS NON DISPONIBLES')\n",
    "    libelle.pack(padx = 10, pady = 10)\n",
    "    tableau = ttk.Treeview(fenetre, columns=('Num','Ingredients'))\n",
    "    tableau.heading('Num', text='Num')\n",
    "    tableau.heading('Ingredients', text='Ingredients')\n",
    "    tableau['show'] = 'headings'\n",
    "    tableau.pack(padx = 10, pady = (0, 10))\n",
    "    for i in range(0,len(not_found_prod)):\n",
    "        tableau.insert('', 'end', iid=i, values=(i,not_found_prod[i])\n",
    "\n",
    "    def OK():\n",
    "        \"\"\" Récupérer ce qui a été saisi par l'utilisateur\"\"\"\n",
    "        fenetre.destroy()\n",
    "    \n",
    "    btn=Button(fenetre ,text=\"Ok\",command=OK)\n",
    "    btn.pack()\n",
    "    fin.mainloop()#\n",
    "\n",
    "\n",
    "    "
   ]
  }
 ],
 "metadata": {
  "kernelspec": {
   "display_name": "Python 3",
   "language": "python",
   "name": "python3"
  },
  "language_info": {
   "codemirror_mode": {
    "name": "ipython",
    "version": 3
   },
   "file_extension": ".py",
   "mimetype": "text/x-python",
   "name": "python",
   "nbconvert_exporter": "python",
   "pygments_lexer": "ipython3",
   "version": "3.8.5"
  }
 },
 "nbformat": 4,
 "nbformat_minor": 2
}
